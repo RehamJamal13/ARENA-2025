{
 "cells": [
  {
   "cell_type": "markdown",
   "metadata": {},
   "source": [
    "# Named Entity Recognition (NER) for LULCC Texts\n",
    "Extract geographic regions, organizations, and custom LULCC terms from abstracts.\n"
   ]
  },
  {
   "cell_type": "markdown",
   "metadata": {},
   "source": [
    "## Import Libraries\n"
   ]
  },
  {
   "cell_type": "code",
   "execution_count": 45,
   "metadata": {},
   "outputs": [],
   "source": [
    "import spacy\n",
    "from spacy.language import Language\n",
    "from spacy.matcher import Matcher, PhraseMatcher\n",
    "from pdfminer.high_level import extract_pages\n",
    "from pdfminer.layout import LTTextContainer\n",
    "import pandas as pd\n",
    "import numpy as np\n",
    "from sklearn.metrics import classification_report\n",
    "import pandas as pd\n",
    "import spacy\n",
    "from spacy.matcher import PhraseMatcher\n",
    "import pycountry"
   ]
  },
  {
   "cell_type": "code",
   "execution_count": null,
   "metadata": {},
   "outputs": [],
   "source": [
    "nlp = spacy.load(\"en_core_web_sm\")\n",
    "\n",
    "\n",
    "\n",
    "LAND_COVER_TERMS = [\n",
    "    \"forest\", \"woodland\", \"rainforest\", \"boreal forest\", \"temperate forest\",\n",
    "    \"tropical forest\", \"mangrove\", \"taiga\", \"jungle\", \"cloud forest\",\n",
    "    \"cropland\", \"farmland\", \"agricultural land\", \"arable land\", \"pasture\",\n",
    "    \"grazing land\", \"rice paddy\", \"irrigated land\", \"plantation\", \"vineyard\",\n",
    "    \"orchard\", \"olive grove\", \"grassland\", \"savanna\", \"steppe\", \"prairie\",\n",
    "    \"shrubland\", \"bushland\", \"tundra\", \"wetland\", \"marsh\", \"swamp\", \"bog\",\n",
    "    \"fen\", \"peatland\", \"urban area\", \"built-up area\", \"industrial area\",\n",
    "    \"transportation area\", \"residential area\", \"commercial area\", \"mining area\",\n",
    "    \"bare ground\", \"desert\", \"sand dune\", \"rocky area\", \"glacier\", \"permafrost\",\n",
    "    \"water body\", \"lake\", \"river\", \"reservoir\", \"lagoon\"\n",
    "]\n",
    "\n",
    "CHANGE_VERBS = [\n",
    "    \"increase\", \"decrease\", \"expand\", \"shrink\", \"grow\", \"decline\", \"rise\", \"fall\",\n",
    "    \"convert\", \"transform\", \"replace\", \"turn into\", \"change to\", \"shift to\",\n",
    "    \"transition to\", \"give way to\", \"make way for\", \"degrade\", \"restore\",\n",
    "    \"reclaim\", \"rehabilitate\", \"regenerate\", \"deteriorate\", \"improve\", \"enhance\",\n",
    "    \"damage\", \"fragment\", \"fragmentize\", \"clear\", \"log\", \"cultivate\", \"irrigate\",\n",
    "    \"abandon\", \"afforest\", \"reforest\", \"deforest\", \"urbanize\", \"develop\",\n",
    "    \"mine\", \"drain\", \"flood\"\n",
    "]\n",
    "\n",
    "COUNTRIES = [country.name for country in pycountry.countries]\n",
    "GLOBAL_REGIONS = [\n",
    "    \"Sub-Saharan Africa\", \"North Africa\", \"East Africa\", \"West Africa\", \"Central Africa\", \"Southern Africa\",\n",
    "    \"Sahel\", \"Sahara\", \"Middle East\", \"Western Asia\", \"Central Asia\", \"South Asia\",\n",
    "    \"Southeast Asia\", \"East Asia\", \"North America\", \"Central America\", \"Caribbean\",\n",
    "    \"South America\", \"Amazon\", \"Andes\", \"Patagonia\", \"Europe\", \"Western Europe\",\n",
    "    \"Eastern Europe\", \"Northern Europe\", \"Southern Europe\", \"Balkans\", \"Scandinavia\",\n",
    "    \"Arctic\", \"Antarctica\", \"Oceania\", \"Australasia\", \"Melanesia\", \"Micronesia\", \"Polynesia\"\n",
    "]\n"
   ]
  },
  {
   "cell_type": "code",
   "execution_count": 47,
   "metadata": {},
   "outputs": [],
   "source": [
    "\n",
    "matcher = PhraseMatcher(nlp.vocab, attr=\"LOWER\")\n",
    "matcher.add(\"LAND_COVER\", list(nlp.pipe(LAND_COVER_TERMS)))\n",
    "matcher.add(\"CHANGE\", list(nlp.pipe(CHANGE_VERBS)))\n",
    "\n",
    "geo_matcher = PhraseMatcher(nlp.vocab, attr=\"LOWER\")\n",
    "geo_matcher.add(\"GEO\", list(nlp.pipe(COUNTRIES + GLOBAL_REGIONS)))\n"
   ]
  },
  {
   "cell_type": "markdown",
   "metadata": {},
   "source": [
    "# Step 3: CUSTOM NLP PIPELINE\n"
   ]
  },
  {
   "cell_type": "code",
   "execution_count": null,
   "metadata": {},
   "outputs": [],
   "source": [
    "\n",
    "def extract_rules(text):\n",
    "    doc = nlp(text)\n",
    "    rules = []\n",
    "\n",
    "    # 1. Extract geography\n",
    "    geographies = set()\n",
    "    for ent in doc.ents:\n",
    "        if ent.label_ in [\"GPE\", \"LOC\"]:\n",
    "            geographies.add(ent.text.strip())\n",
    "    for match_id, start, end in geo_matcher(doc):\n",
    "        geographies.add(doc[start:end].text.strip())\n",
    "    if not geographies:\n",
    "        geographies.add(\"Global\")\n",
    "\n",
    "    # 2. Extract percentage change\n",
    "    for token in doc:\n",
    "        if token.like_num and \"%\" in doc[token.i:token.i+3].text:\n",
    "            context = doc[max(0, token.i - 5):min(len(doc), token.i + 5)].text\n",
    "            for geo in geographies:\n",
    "                rules.append({\n",
    "                    'type': 'percentage_change',\n",
    "                    'term': '',\n",
    "                    'value': f\"{token.text}%\",\n",
    "                    'geography': geo,\n",
    "                    'context': context\n",
    "                })\n",
    "\n",
    "    # 3. Extract land cover + change process terms\n",
    "    matches = matcher(doc)\n",
    "    for match_id, start, end in matches:\n",
    "        term = doc[start:end].text\n",
    "        rule_type = 'land_cover' if nlp.vocab.strings[match_id] == \"LAND_COVER\" else 'change_process'\n",
    "        context = doc[max(0, start - 5):min(len(doc), end + 5)].text\n",
    "        for geo in geographies:\n",
    "            rules.append({\n",
    "                'type': rule_type,\n",
    "                'term': term,\n",
    "                'value': '',\n",
    "                'geography': geo,\n",
    "                'context': context\n",
    "            })\n",
    "\n",
    "    return rules\n",
    "\n",
    "\n",
    "def process_row(row):\n",
    "    rules = []\n",
    "    for col in ['title', 'abstract', 'sections']:\n",
    "        if pd.notna(row.get(col)):\n",
    "            extracted = extract_rules(str(row[col]))\n",
    "            for rule in extracted:\n",
    "                rule.update({\n",
    "                    'authors': row.get('authors', ''),\n",
    "                    'source_column': col,\n",
    "                    'original_row': row.name\n",
    "                })\n",
    "            rules.extend(extracted)\n",
    "    return rules\n"
   ]
  },
  {
   "cell_type": "code",
   "execution_count": 49,
   "metadata": {},
   "outputs": [],
   "source": [
    "# ================== CSV PROCESSING ==================\n",
    "\n",
    "def process_csv(input_path, output_path):\n",
    "    df = pd.read_csv(input_path)\n",
    "    all_rules = []\n",
    "\n",
    "    for _, row in df.iterrows():\n",
    "        all_rules.extend(process_row(row))\n",
    "\n",
    "    results = pd.DataFrame(all_rules)\n",
    "    cols = ['original_row', 'authors', 'source_column', 'type', 'term', 'value', 'geography', 'context']\n",
    "    results = results.reindex(columns=[c for c in cols if c in results.columns])\n",
    "    results.to_csv(output_path, index=False)\n",
    "    print(f\"✅ Processed {len(df)} rows — Extracted {len(results)} rules\")\n",
    "    print(results.head(10).to_string())\n"
   ]
  },
  {
   "cell_type": "code",
   "execution_count": 50,
   "metadata": {},
   "outputs": [
    {
     "name": "stdout",
     "output_type": "stream",
     "text": [
      "✅ Processed 118 rows — Extracted 97806 rules\n",
      "   original_row                                       authors source_column               type           term   value geography                                                 context\n",
      "0             0  Sonam Wang; Lamchin Munkhnasan; Woo-Kyun Lee      abstract  percentage_change                 12.77%   Thimphu       observed a significant increase (12.77%) in built\n",
      "1             0  Sonam Wang; Lamchin Munkhnasan; Woo-Kyun Lee      abstract  percentage_change                 52.88%   Thimphu                      up area from 2002 (52.88%) to 2018\n",
      "2             0  Sonam Wang; Lamchin Munkhnasan; Woo-Kyun Lee      abstract  percentage_change                  65.5%   Thimphu                            %) to 2018 (65.5%), followed\n",
      "3             0  Sonam Wang; Lamchin Munkhnasan; Woo-Kyun Lee      abstract  percentage_change                 15.25%   Thimphu  forest cover declined drastically (15.25%) followed by\n",
      "4             0  Sonam Wang; Lamchin Munkhnasan; Woo-Kyun Lee      abstract  percentage_change                  1.01%   Thimphu                ) followed by agriculture (1.01%). Rapid\n",
      "5             0  Sonam Wang; Lamchin Munkhnasan; Woo-Kyun Lee      abstract  percentage_change                 73.21%   Thimphu                   of the city area (73.21%) with forest\n",
      "6             0  Sonam Wang; Lamchin Munkhnasan; Woo-Kyun Lee      abstract  percentage_change                    16%   Thimphu            patches making up only about 16% of the city\n",
      "7             0  Sonam Wang; Lamchin Munkhnasan; Woo-Kyun Lee      abstract     change_process       increase           Thimphu   The study observed a significant increase (12.77%) in\n",
      "8             0  Sonam Wang; Lamchin Munkhnasan; Woo-Kyun Lee      abstract         land_cover  built-up area           Thimphu             (12.77%) in built-up area from 2002 (52.88%\n",
      "9             0  Sonam Wang; Lamchin Munkhnasan; Woo-Kyun Lee      abstract     change_process       increase           Thimphu    , followed by a slight increase in the cover of bare\n"
     ]
    }
   ],
   "source": [
    "\n",
    "if __name__ == \"__main__\":\n",
    "    process_csv(\n",
    "        input_path=\"/Users/rehamjamal/Desktop/ARENA 2025/extracted_text/extracted_data_full.csv\",\n",
    "        output_path=\"final_lulc_rules_with_geography.csv\"\n",
    "    )\n"
   ]
  },
  {
   "cell_type": "code",
   "execution_count": 51,
   "metadata": {},
   "outputs": [
    {
     "data": {
      "application/vnd.plotly.v1+json": {
       "config": {
        "plotlyServerURL": "https://plot.ly"
       },
       "data": [
        {
         "coloraxis": "coloraxis",
         "geo": "geo",
         "hovertemplate": "geography=%{location}<br>count=%{z}<extra></extra>",
         "locationmode": "country names",
         "locations": [
          "-18.69%",
          "-34.84",
          "A.K.",
          "AFRICA",
          "AI",
          "ASIA",
          "Abuakwa",
          "Achanakmaar",
          "Acısu River",
          "Adana",
          "Addis Ababa",
          "Adelaide",
          "Afghanistan",
          "Africa",
          "Akaike",
          "Akkuyu",
          "Aksu River",
          "Al-Jabal Al-Akhdar",
          "Alaqiq",
          "Alaska",
          "Alberta",
          "Alexandria",
          "Amazon",
          "Ambon",
          "Ambon City",
          "Ambon city",
          "Ambon city center",
          "America",
          "Americas",
          "Amuru",
          "Andassa",
          "Angola",
          "Ann township",
          "Antalya",
          "Antarctica",
          "Antigua",
          "Antigua and Barbuda",
          "Appalachian Mountains",
          "Aqua Satellites",
          "Aradan",
          "Araucaria",
          "ArcGIS",
          "Arcgis",
          "Arctic",
          "Ariège Valley",
          "Ashanti",
          "Asia",
          "Asia-Pacific",
          "Atakum",
          "Atlantic",
          "Atwima",
          "Australia",
          "B.A.",
          "BECCS",
          "Baiga",
          "Bali",
          "Baljurish",
          "Bangala",
          "Bangladesh",
          "Bangui",
          "Barbuda",
          "Beijing",
          "Belarus",
          "Belize",
          "Bell County",
          "Benin",
          "Bharuch",
          "Bhavani",
          "Bhusuk",
          "Bhutan",
          "Bijie City",
          "Blantyre",
          "Blantyre city",
          "Blue Nile",
          "Blue Nile Basin",
          "Bonde",
          "Boteti",
          "Botswana",
          "Boundaries",
          "Brandt",
          "Brassia",
          "Brazil",
          "British Columbia",
          "Broomfield",
          "Buljurshi",
          "Bungoma County",
          "Burkina Faso",
          "Burundi",
          "Buzi",
          "CA",
          "CCS",
          "CI",
          "CORINE",
          "Caatinga",
          "California",
          "Cambodia",
          "Cambridge",
          "Cameroon",
          "Canada",
          "Caribbean",
          "Caribbean Island",
          "Census",
          "Central",
          "Central African Republic",
          "Central America",
          "Central Asia",
          "Central Coast",
          "Central Europe",
          "Central India",
          "Cerrado",
          "Chaco",
          "Changjiji",
          "Chaoying Village",
          "Charlottetown",
          "Chemura",
          "Chernobyl",
          "Chiapas",
          "Chicago",
          "China",
          "Chittagong",
          "Chongfeng Village",
          "Claiborne County",
          "Cluster",
          "Coastal Zone",
          "Coatzacoalcos",
          "Codrington",
          "Colombia",
          "Columbia",
          "Congo",
          "Congo Basin",
          "Cov",
          "Cropland",
          "Croplands",
          "Cumberland River",
          "DC",
          "DD",
          "DEM",
          "DN",
          "DR",
          "DW",
          "Dahej Port",
          "Dak Nong",
          "Damavand",
          "Damodar River",
          "Dedo",
          "Dedo Watershed",
          "Delhi",
          "Delta",
          "Delta Region",
          "Democratic Republic of Congo",
          "Derong County",
          "Derong County's",
          "Derong county",
          "Developed Countries",
          "Dhaka",
          "Dhaka City",
          "Dharamshala",
          "Diamond City of",
          "Dianyagong",
          "Dibaba",
          "Dingtao",
          "Dominican Republic",
          "Dongming County",
          "Dongting Lake",
          "Dongying City",
          "Dongyu River",
          "Dry Creek",
          "Dryland",
          "Duan county",
          "Dugong Lake",
          "ED",
          "EMBRAPA",
          "EQ",
          "ET",
          "EU",
          "Earth",
          "Earth Engine",
          "Earth Explorer",
          "East",
          "East Africa",
          "East Asia",
          "Eastern Europe",
          "Eastern India",
          "Eastern Uganda",
          "Egypt",
          "El Baha",
          "Elmandaq",
          "Eq",
          "Eqs",
          "Eritrea",
          "Ernakulam",
          "ErrMa",
          "Ethiopa",
          "Ethiopia",
          "Eurasia",
          "Europe",
          "F1",
          "Farmland",
          "Fe-Al",
          "Figs",
          "Finchaa",
          "Flow_-matrix_graf.rsx",
          "Fogera",
          "Forest",
          "Fractal",
          "France",
          "GB",
          "GCAM",
          "Gabon",
          "Gannan Prefecture",
          "Gannan Prefecture 2000-2018",
          "Gansu Province",
          "Geografía",
          "Geoprocessing Tools",
          "Germany",
          "Ghana",
          "Gharbia",
          "Global",
          "Golden Corridor",
          "Google Earth",
          "Google Earth Pro-was",
          "Google-Earth",
          "Governmental",
          "Grassland",
          "Grasslands",
          "Great Basin",
          "Green",
          "Green Bonds",
          "Greenland",
          "Guadeloupe",
          "Guangxi",
          "Guangzhou",
          "Guatemala",
          "Gudane village",
          "Guinea",
          "Guizhou Province",
          "Gujarat",
          "Haiti",
          "Hajar",
          "Hareto",
          "Haryana",
          "Hawaii",
          "Heat Island",
          "Hedges",
          "Hengduan Mountain",
          "Hengduan Mountains",
          "Honduras",
          "HoroGuduruWollega Zone",
          "Horro District",
          "Houghton",
          "Huanjiang county",
          "Hubei",
          "Hubei province",
          "Hurricanes",
          "I.K.",
          "IL",
          "Idrisi",
          "Ilkadim",
          "India",
          "Indonesia",
          "Interoceanic Corridor",
          "Iowa",
          "Iran",
          "Iraq",
          "Isalowe",
          "Island",
          "Ismailia",
          "Italy",
          "Jaipur",
          "Jaipur city",
          "Jammu",
          "Jammu Kashmir",
          "Japan",
          "Jeffries",
          "Jersey",
          "Jharkhand",
          "Jiangsu",
          "Jiangsu Province",
          "Jiaxiang County",
          "Jining",
          "Jining City",
          "Jordan",
          "Juancheng",
          "Jupiter",
          "Juye County",
          "K",
          "K Ridd",
          "KDC village",
          "KI",
          "Kafr El-Sheikh",
          "Kangra",
          "Kapchorwa",
          "Kashmir",
          "Kazakhstan",
          "Kentucky",
          "Kenya",
          "Kerala",
          "Kingdom",
          "Kingdom of Saudi Arabia",
          "Kohavi",
          "Korea",
          "L À1",
          "L.G.",
          "L1",
          "LA",
          "LCLCs",
          "LE",
          "LGED",
          "LU",
          "LUCCM",
          "LULC",
          "LULCC",
          "Ladakh",
          "Lake States",
          "Lake Tana",
          "Lake Victoria",
          "Lake Victoria Basin",
          "Lake, Sea",
          "Lanjophaka",
          "Laos",
          "Latin America",
          "Latvia",
          "Lesotho",
          "Libya",
          "Likango",
          "Lilongwe",
          "Limbe",
          "Linking",
          "Lintan",
          "Logistic",
          "Lower Colorado",
          "Lower Mississippi",
          "Lungtenphu",
          "Lusambila",
          "M.C.H.",
          "MD",
          "MODIS",
          "Madagascar",
          "Mahalapye",
          "Malawi",
          "Maluku Province",
          "Malvern",
          "Manhattan",
          "Manhyia",
          "Manipur",
          "MapCurves_raster.rsx",
          "Martinique",
          "Maryland",
          "Mayotte",
          "Mediterranean",
          "Meghalaya",
          "Mekong River Delta",
          "Mersin",
          "Mexico",
          "Middle",
          "Middle East",
          "Middlesboro",
          "Migori River",
          "Millionth",
          "Minbu",
          "Minneapolis",
          "Minnesota",
          "Mizoram",
          "Mobile",
          "Modeling",
          "Modelling",
          "Mongolia",
          "Monofiya",
          "Morocco",
          "Mount Cameroon",
          "Mountainous Region",
          "Mozambique",
          "Mt. Elgon",
          "Mudan District",
          "Multi",
          "Mumbai",
          "Muscat",
          "Mutanga",
          "Myanmar",
          "NBR",
          "NCR",
          "NDVI",
          "NI",
          "NIR",
          "NS",
          "Nagaland",
          "Nagawa",
          "Nairobi",
          "Namibia",
          "Nansihu Lake",
          "Nansihu Lake Basin",
          "Nanyang Lake",
          "Nashe River",
          "Nearest Neighbour",
          "Nepal",
          "Nerebehi",
          "NetCDF4",
          "Netherlands",
          "New Guinea",
          "New Hampshire",
          "New Jersey",
          "New Jersey's",
          "New South Wales",
          "New Zealand",
          "Niger",
          "Nigeria",
          "Nile",
          "Nile Delta",
          "Ningxia Hui Autonomous Region",
          "Nir",
          "Nitosol",
          "Nizwa",
          "Nizwa city",
          "Nkawie-Kuma",
          "Noida",
          "North",
          "North America",
          "North India",
          "North and South",
          "North and South Americas",
          "North to South",
          "North-Eastern India",
          "North-South",
          "North-eastern",
          "Northeast Asia",
          "Northern Arizona",
          "Northern Asia",
          "Northern Border",
          "Northern Border Region",
          "Northern Egypt",
          "Northern Ethiopia",
          "Northern Hemisphere",
          "Northern India",
          "Northern Spain",
          "Northern Uganda",
          "Northwest Ethiopia",
          "Northwestern Ethiopia",
          "Northwestern Kenya",
          "Northwestern Vietnam",
          "Norway",
          "Nwabiagya",
          "Nwabiagya District",
          "Nwoya",
          "OA",
          "OLI",
          "Oceania",
          "Ohio",
          "Olmedo",
          "Oman",
          "Ordu",
          "Oregon",
          "Oromia",
          "Oromia Regional State",
          "Oromiyaa",
          "Oryza",
          "Overall",
          "Oviedo",
          "PD",
          "PRC",
          "Pacific",
          "Pacific Islands",
          "Pakistan",
          "Palapye",
          "Palestine",
          "Pan'an Lake",
          "Panama",
          "Panika",
          "Petrolina",
          "Philippines",
          "Po",
          "Port Said",
          "Potential",
          "Powai",
          "Prince Edward Island",
          "Producer",
          "Puerto Rico",
          "Q.Y.",
          "QF",
          "Qelwah",
          "Qixingguan District",
          "Qualitative",
          "Quebec",
          "Queensland",
          "Qufu",
          "RA",
          "RCP4.5",
          "RCP8.5",
          "ROC",
          "RT",
          "Rajasthan",
          "Rajshahi",
          "Rajshahi District",
          "Red River Delta",
          "Red River Delta Delta",
          "Redland",
          "Relationship",
          "Rencheng District",
          "Rift Valley",
          "Rio Claro",
          "River",
          "RoC",
          "Roces",
          "Rocks",
          "Rocky",
          "Russia",
          "Russian Federation",
          "Rwanda",
          "S.T.",
          "SEBAL",
          "SVM",
          "SWIR",
          "SWIR1",
          "Sahara",
          "Sahel",
          "Sahibganj",
          "Salt Lake City",
          "Samsun",
          "San Salvador",
          "Sapkota",
          "Satellites",
          "Saudi Arabia",
          "Saudi Arabia's",
          "Se",
          "Sect",
          "Sects",
          "Sefidrood",
          "Sefidrood river",
          "Semnan Province",
          "Senegal",
          "Shambu",
          "Shandong",
          "Shandong Province",
          "Shandong province",
          "Sharqiyah",
          "Shuanggou Town",
          "Si River",
          "Sichuan",
          "Sichuan Province",
          "Sichuan province",
          "Sikkim",
          "Sikkim State",
          "Silk Road",
          "Sishui County",
          "Somalia",
          "Somerset County",
          "Sorghum",
          "Sorkh",
          "South",
          "South Africa",
          "South America",
          "South Asia",
          "South Australia",
          "South Korea",
          "South Sudan",
          "South Wello",
          "South west",
          "South west region",
          "South-East Asia",
          "South-Eastern",
          "South-Korea",
          "Southeast",
          "Southeast Africa",
          "Southeast Asia",
          "Southern Africa",
          "Southern Asia",
          "Southwest Asia",
          "Spain",
          "Spearman",
          "Sri Lanka",
          "Sridaran",
          "St. Paul",
          "States",
          "Streamflow",
          "Study Area",
          "Sub-Saharan Africa",
          "Sudan",
          "Suining County",
          "Sulawesi",
          "Sumatra",
          "Surma River",
          "Swaziland",
          "Switzerland",
          "Syria",
          "São Francisco",
          "São Paulo State",
          "Taba",
          "Tanzania",
          "Tapi River",
          "Teak",
          "Tehran",
          "Tehran Province",
          "Telangana",
          "Tengzhou City",
          "Tennessee",
          "Texas",
          "Thailand",
          "The Akkuyu Region",
          "The Birr River",
          "The Kingdom of Bhutan",
          "The Kingdom of Saudi Arabia",
          "The Nansi Lake Basin",
          "The Nile Delta",
          "The United States",
          "Thimphu",
          "Tibetan Plateau",
          "Toase",
          "Togo",
          "Transnzoia County",
          "Tshopo",
          "Tunisia",
          "Turkey",
          "U i",
          "U.S.",
          "UAE",
          "UK",
          "US",
          "USA",
          "USD100",
          "UTM Zone",
          "Uganda",
          "Ukraine",
          "United Arab Emirates",
          "United Kingdom",
          "United States",
          "Urban",
          "Utah",
          "Uttarakhand",
          "Uzbekistan",
          "VCF5KYR",
          "Veracruz",
          "Victoria",
          "Vietnam",
          "Vihar",
          "Vol",
          "WY",
          "Waka",
          "Weishan County",
          "Weishan Lake",
          "West",
          "West Africa",
          "West Africa's",
          "West Bengal",
          "West Coast",
          "West-Central Asia",
          "Western Europe",
          "Western India",
          "Western Kenya Region",
          "Wetland",
          "Wildland",
          "Wiley",
          "Wisconsin",
          "Wuhan",
          "Xuzhou",
          "Yangambi",
          "Yangtze River",
          "Yanzhou",
          "Yellow Creek",
          "Yellow Creek Watershed",
          "Yughabala",
          "Zagazig",
          "Zambia",
          "Zaozhuang",
          "Zhongshan Village",
          "Zhuang",
          "Zimbabwe",
          "Zomba",
          "Zoucheng City",
          "amazon",
          "cacao",
          "central Africa",
          "china",
          "covered1833.15",
          "cropland",
          "dryland",
          "earth",
          "farmland",
          "google earth",
          "grey",
          "http://www",
          "i=1",
          "lake area",
          "middle east",
          "mud beach",
          "otherland",
          "pH",
          "pixels",
          "reed beach",
          "shrub woodland",
          "streamflow",
          "sub-Saharan Africa",
          "the Al-Jabal Al-Akhdar",
          "the Arabian Peninsula",
          "the Ariège Valley",
          "the Asturias Central Area",
          "the Atlantic Coast",
          "the Atlantic Coast of Cameroon",
          "the Atlantic Coastline",
          "the Atlantic Ocean",
          "the Birr River",
          "the Black Sea",
          "the Black Sea Region",
          "the Blue Nile Basin",
          "the Buzi basin",
          "the Caspian Sea",
          "the Central Area",
          "the Central District",
          "the Central Highlands",
          "the Central Region",
          "the Chesapeake Bay",
          "the Congo River",
          "the Democratic Republic of Congo",
          "the Dongting Lake",
          "the Donting Lake",
          "the East District",
          "the East Sea",
          "the East of Vietnam",
          "the Fincha River",
          "the Ganan Prefecture",
          "the Gannan Prefecture",
          "the Gidabo River",
          "the Gidabo basin",
          "the Global North",
          "the Global South",
          "the Google Earth",
          "the Gulf of Mexico",
          "the Gulf of Thailand",
          "the Hengduan Mountains",
          "the Hijaz Mountains",
          "the Jimma Administrative Zone",
          "the Kingdom of Saudi Arabia",
          "the Lake Tana Basin",
          "the Lighthouse Bay Resort",
          "the Loess Plateau",
          "the Mediterranean Sea",
          "the Mekong Delta",
          "the Middle East",
          "the Migori County",
          "the Migori River",
          "the Nansi Lake Basin",
          "the New England Region",
          "the Nile Basin",
          "the Nile Delta",
          "the Nile River",
          "the North Central",
          "the North China Plain",
          "the Northern Border Region",
          "the Northern Hemisphere",
          "the Pacific Northwest",
          "the Paraná Basin",
          "the People's Republic of China",
          "the Red River Delta",
          "the River Ariège",
          "the Russian Federation",
          "the SM Sect",
          "the Savannah River Basin",
          "the South China Sea",
          "the Tibetan Plateau",
          "the United Arab Emirates",
          "the United Kingdom",
          "the United States",
          "the United States of America",
          "the Upper Colorado Region",
          "the Ural Mountains",
          "the West Mediterranean",
          "the Western Hemisphere",
          "the Yangtze River",
          "the Yellow Creek Watershed",
          "the Yellow River",
          "the east coast",
          "the sea coast",
          "west.",
          "wetland",
          "woodland",
          "~73%",
          "À27.4%",
          "À34.7%",
          "À60.3%",
          "Çorum",
          "þ1.53 %",
          "þ7.81 %"
         ],
         "name": "",
         "type": "choropleth",
         "z": {
          "bdata": "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",
          "dtype": "i2"
         }
        }
       ],
       "layout": {
        "coloraxis": {
         "colorbar": {
          "title": {
           "text": "count"
          }
         },
         "colorscale": [
          [
           0,
           "rgb(255,255,217)"
          ],
          [
           0.125,
           "rgb(237,248,177)"
          ],
          [
           0.25,
           "rgb(199,233,180)"
          ],
          [
           0.375,
           "rgb(127,205,187)"
          ],
          [
           0.5,
           "rgb(65,182,196)"
          ],
          [
           0.625,
           "rgb(29,145,192)"
          ],
          [
           0.75,
           "rgb(34,94,168)"
          ],
          [
           0.875,
           "rgb(37,52,148)"
          ],
          [
           1,
           "rgb(8,29,88)"
          ]
         ]
        },
        "geo": {
         "center": {},
         "domain": {
          "x": [
           0,
           1
          ],
          "y": [
           0,
           1
          ]
         }
        },
        "legend": {
         "tracegroupgap": 0
        },
        "template": {
         "data": {
          "bar": [
           {
            "error_x": {
             "color": "#2a3f5f"
            },
            "error_y": {
             "color": "#2a3f5f"
            },
            "marker": {
             "line": {
              "color": "#E5ECF6",
              "width": 0.5
             },
             "pattern": {
              "fillmode": "overlay",
              "size": 10,
              "solidity": 0.2
             }
            },
            "type": "bar"
           }
          ],
          "barpolar": [
           {
            "marker": {
             "line": {
              "color": "#E5ECF6",
              "width": 0.5
             },
             "pattern": {
              "fillmode": "overlay",
              "size": 10,
              "solidity": 0.2
             }
            },
            "type": "barpolar"
           }
          ],
          "carpet": [
           {
            "aaxis": {
             "endlinecolor": "#2a3f5f",
             "gridcolor": "white",
             "linecolor": "white",
             "minorgridcolor": "white",
             "startlinecolor": "#2a3f5f"
            },
            "baxis": {
             "endlinecolor": "#2a3f5f",
             "gridcolor": "white",
             "linecolor": "white",
             "minorgridcolor": "white",
             "startlinecolor": "#2a3f5f"
            },
            "type": "carpet"
           }
          ],
          "choropleth": [
           {
            "colorbar": {
             "outlinewidth": 0,
             "ticks": ""
            },
            "type": "choropleth"
           }
          ],
          "contour": [
           {
            "colorbar": {
             "outlinewidth": 0,
             "ticks": ""
            },
            "colorscale": [
             [
              0,
              "#0d0887"
             ],
             [
              0.1111111111111111,
              "#46039f"
             ],
             [
              0.2222222222222222,
              "#7201a8"
             ],
             [
              0.3333333333333333,
              "#9c179e"
             ],
             [
              0.4444444444444444,
              "#bd3786"
             ],
             [
              0.5555555555555556,
              "#d8576b"
             ],
             [
              0.6666666666666666,
              "#ed7953"
             ],
             [
              0.7777777777777778,
              "#fb9f3a"
             ],
             [
              0.8888888888888888,
              "#fdca26"
             ],
             [
              1,
              "#f0f921"
             ]
            ],
            "type": "contour"
           }
          ],
          "contourcarpet": [
           {
            "colorbar": {
             "outlinewidth": 0,
             "ticks": ""
            },
            "type": "contourcarpet"
           }
          ],
          "heatmap": [
           {
            "colorbar": {
             "outlinewidth": 0,
             "ticks": ""
            },
            "colorscale": [
             [
              0,
              "#0d0887"
             ],
             [
              0.1111111111111111,
              "#46039f"
             ],
             [
              0.2222222222222222,
              "#7201a8"
             ],
             [
              0.3333333333333333,
              "#9c179e"
             ],
             [
              0.4444444444444444,
              "#bd3786"
             ],
             [
              0.5555555555555556,
              "#d8576b"
             ],
             [
              0.6666666666666666,
              "#ed7953"
             ],
             [
              0.7777777777777778,
              "#fb9f3a"
             ],
             [
              0.8888888888888888,
              "#fdca26"
             ],
             [
              1,
              "#f0f921"
             ]
            ],
            "type": "heatmap"
           }
          ],
          "histogram": [
           {
            "marker": {
             "pattern": {
              "fillmode": "overlay",
              "size": 10,
              "solidity": 0.2
             }
            },
            "type": "histogram"
           }
          ],
          "histogram2d": [
           {
            "colorbar": {
             "outlinewidth": 0,
             "ticks": ""
            },
            "colorscale": [
             [
              0,
              "#0d0887"
             ],
             [
              0.1111111111111111,
              "#46039f"
             ],
             [
              0.2222222222222222,
              "#7201a8"
             ],
             [
              0.3333333333333333,
              "#9c179e"
             ],
             [
              0.4444444444444444,
              "#bd3786"
             ],
             [
              0.5555555555555556,
              "#d8576b"
             ],
             [
              0.6666666666666666,
              "#ed7953"
             ],
             [
              0.7777777777777778,
              "#fb9f3a"
             ],
             [
              0.8888888888888888,
              "#fdca26"
             ],
             [
              1,
              "#f0f921"
             ]
            ],
            "type": "histogram2d"
           }
          ],
          "histogram2dcontour": [
           {
            "colorbar": {
             "outlinewidth": 0,
             "ticks": ""
            },
            "colorscale": [
             [
              0,
              "#0d0887"
             ],
             [
              0.1111111111111111,
              "#46039f"
             ],
             [
              0.2222222222222222,
              "#7201a8"
             ],
             [
              0.3333333333333333,
              "#9c179e"
             ],
             [
              0.4444444444444444,
              "#bd3786"
             ],
             [
              0.5555555555555556,
              "#d8576b"
             ],
             [
              0.6666666666666666,
              "#ed7953"
             ],
             [
              0.7777777777777778,
              "#fb9f3a"
             ],
             [
              0.8888888888888888,
              "#fdca26"
             ],
             [
              1,
              "#f0f921"
             ]
            ],
            "type": "histogram2dcontour"
           }
          ],
          "mesh3d": [
           {
            "colorbar": {
             "outlinewidth": 0,
             "ticks": ""
            },
            "type": "mesh3d"
           }
          ],
          "parcoords": [
           {
            "line": {
             "colorbar": {
              "outlinewidth": 0,
              "ticks": ""
             }
            },
            "type": "parcoords"
           }
          ],
          "pie": [
           {
            "automargin": true,
            "type": "pie"
           }
          ],
          "scatter": [
           {
            "fillpattern": {
             "fillmode": "overlay",
             "size": 10,
             "solidity": 0.2
            },
            "type": "scatter"
           }
          ],
          "scatter3d": [
           {
            "line": {
             "colorbar": {
              "outlinewidth": 0,
              "ticks": ""
             }
            },
            "marker": {
             "colorbar": {
              "outlinewidth": 0,
              "ticks": ""
             }
            },
            "type": "scatter3d"
           }
          ],
          "scattercarpet": [
           {
            "marker": {
             "colorbar": {
              "outlinewidth": 0,
              "ticks": ""
             }
            },
            "type": "scattercarpet"
           }
          ],
          "scattergeo": [
           {
            "marker": {
             "colorbar": {
              "outlinewidth": 0,
              "ticks": ""
             }
            },
            "type": "scattergeo"
           }
          ],
          "scattergl": [
           {
            "marker": {
             "colorbar": {
              "outlinewidth": 0,
              "ticks": ""
             }
            },
            "type": "scattergl"
           }
          ],
          "scattermap": [
           {
            "marker": {
             "colorbar": {
              "outlinewidth": 0,
              "ticks": ""
             }
            },
            "type": "scattermap"
           }
          ],
          "scattermapbox": [
           {
            "marker": {
             "colorbar": {
              "outlinewidth": 0,
              "ticks": ""
             }
            },
            "type": "scattermapbox"
           }
          ],
          "scatterpolar": [
           {
            "marker": {
             "colorbar": {
              "outlinewidth": 0,
              "ticks": ""
             }
            },
            "type": "scatterpolar"
           }
          ],
          "scatterpolargl": [
           {
            "marker": {
             "colorbar": {
              "outlinewidth": 0,
              "ticks": ""
             }
            },
            "type": "scatterpolargl"
           }
          ],
          "scatterternary": [
           {
            "marker": {
             "colorbar": {
              "outlinewidth": 0,
              "ticks": ""
             }
            },
            "type": "scatterternary"
           }
          ],
          "surface": [
           {
            "colorbar": {
             "outlinewidth": 0,
             "ticks": ""
            },
            "colorscale": [
             [
              0,
              "#0d0887"
             ],
             [
              0.1111111111111111,
              "#46039f"
             ],
             [
              0.2222222222222222,
              "#7201a8"
             ],
             [
              0.3333333333333333,
              "#9c179e"
             ],
             [
              0.4444444444444444,
              "#bd3786"
             ],
             [
              0.5555555555555556,
              "#d8576b"
             ],
             [
              0.6666666666666666,
              "#ed7953"
             ],
             [
              0.7777777777777778,
              "#fb9f3a"
             ],
             [
              0.8888888888888888,
              "#fdca26"
             ],
             [
              1,
              "#f0f921"
             ]
            ],
            "type": "surface"
           }
          ],
          "table": [
           {
            "cells": {
             "fill": {
              "color": "#EBF0F8"
             },
             "line": {
              "color": "white"
             }
            },
            "header": {
             "fill": {
              "color": "#C8D4E3"
             },
             "line": {
              "color": "white"
             }
            },
            "type": "table"
           }
          ]
         },
         "layout": {
          "annotationdefaults": {
           "arrowcolor": "#2a3f5f",
           "arrowhead": 0,
           "arrowwidth": 1
          },
          "autotypenumbers": "strict",
          "coloraxis": {
           "colorbar": {
            "outlinewidth": 0,
            "ticks": ""
           }
          },
          "colorscale": {
           "diverging": [
            [
             0,
             "#8e0152"
            ],
            [
             0.1,
             "#c51b7d"
            ],
            [
             0.2,
             "#de77ae"
            ],
            [
             0.3,
             "#f1b6da"
            ],
            [
             0.4,
             "#fde0ef"
            ],
            [
             0.5,
             "#f7f7f7"
            ],
            [
             0.6,
             "#e6f5d0"
            ],
            [
             0.7,
             "#b8e186"
            ],
            [
             0.8,
             "#7fbc41"
            ],
            [
             0.9,
             "#4d9221"
            ],
            [
             1,
             "#276419"
            ]
           ],
           "sequential": [
            [
             0,
             "#0d0887"
            ],
            [
             0.1111111111111111,
             "#46039f"
            ],
            [
             0.2222222222222222,
             "#7201a8"
            ],
            [
             0.3333333333333333,
             "#9c179e"
            ],
            [
             0.4444444444444444,
             "#bd3786"
            ],
            [
             0.5555555555555556,
             "#d8576b"
            ],
            [
             0.6666666666666666,
             "#ed7953"
            ],
            [
             0.7777777777777778,
             "#fb9f3a"
            ],
            [
             0.8888888888888888,
             "#fdca26"
            ],
            [
             1,
             "#f0f921"
            ]
           ],
           "sequentialminus": [
            [
             0,
             "#0d0887"
            ],
            [
             0.1111111111111111,
             "#46039f"
            ],
            [
             0.2222222222222222,
             "#7201a8"
            ],
            [
             0.3333333333333333,
             "#9c179e"
            ],
            [
             0.4444444444444444,
             "#bd3786"
            ],
            [
             0.5555555555555556,
             "#d8576b"
            ],
            [
             0.6666666666666666,
             "#ed7953"
            ],
            [
             0.7777777777777778,
             "#fb9f3a"
            ],
            [
             0.8888888888888888,
             "#fdca26"
            ],
            [
             1,
             "#f0f921"
            ]
           ]
          },
          "colorway": [
           "#636efa",
           "#EF553B",
           "#00cc96",
           "#ab63fa",
           "#FFA15A",
           "#19d3f3",
           "#FF6692",
           "#B6E880",
           "#FF97FF",
           "#FECB52"
          ],
          "font": {
           "color": "#2a3f5f"
          },
          "geo": {
           "bgcolor": "white",
           "lakecolor": "white",
           "landcolor": "#E5ECF6",
           "showlakes": true,
           "showland": true,
           "subunitcolor": "white"
          },
          "hoverlabel": {
           "align": "left"
          },
          "hovermode": "closest",
          "mapbox": {
           "style": "light"
          },
          "paper_bgcolor": "white",
          "plot_bgcolor": "#E5ECF6",
          "polar": {
           "angularaxis": {
            "gridcolor": "white",
            "linecolor": "white",
            "ticks": ""
           },
           "bgcolor": "#E5ECF6",
           "radialaxis": {
            "gridcolor": "white",
            "linecolor": "white",
            "ticks": ""
           }
          },
          "scene": {
           "xaxis": {
            "backgroundcolor": "#E5ECF6",
            "gridcolor": "white",
            "gridwidth": 2,
            "linecolor": "white",
            "showbackground": true,
            "ticks": "",
            "zerolinecolor": "white"
           },
           "yaxis": {
            "backgroundcolor": "#E5ECF6",
            "gridcolor": "white",
            "gridwidth": 2,
            "linecolor": "white",
            "showbackground": true,
            "ticks": "",
            "zerolinecolor": "white"
           },
           "zaxis": {
            "backgroundcolor": "#E5ECF6",
            "gridcolor": "white",
            "gridwidth": 2,
            "linecolor": "white",
            "showbackground": true,
            "ticks": "",
            "zerolinecolor": "white"
           }
          },
          "shapedefaults": {
           "line": {
            "color": "#2a3f5f"
           }
          },
          "ternary": {
           "aaxis": {
            "gridcolor": "white",
            "linecolor": "white",
            "ticks": ""
           },
           "baxis": {
            "gridcolor": "white",
            "linecolor": "white",
            "ticks": ""
           },
           "bgcolor": "#E5ECF6",
           "caxis": {
            "gridcolor": "white",
            "linecolor": "white",
            "ticks": ""
           }
          },
          "title": {
           "x": 0.05
          },
          "xaxis": {
           "automargin": true,
           "gridcolor": "white",
           "linecolor": "white",
           "ticks": "",
           "title": {
            "standoff": 15
           },
           "zerolinecolor": "white",
           "zerolinewidth": 2
          },
          "yaxis": {
           "automargin": true,
           "gridcolor": "white",
           "linecolor": "white",
           "ticks": "",
           "title": {
            "standoff": 15
           },
           "zerolinecolor": "white",
           "zerolinewidth": 2
          }
         }
        },
        "title": {
         "text": "LULC Mentions by Country/Region"
        }
       }
      }
     },
     "metadata": {},
     "output_type": "display_data"
    }
   ],
   "source": [
    "import pandas as pd\n",
    "import plotly.express as px\n",
    "\n",
    "# Load the rules file\n",
    "df = pd.read_csv(\"final_lulc_rules_with_geography.csv\")\n",
    "\n",
    "# Aggregate by geography\n",
    "geo_counts = df.groupby(\"geography\").size().reset_index(name=\"count\")\n",
    "\n",
    "# Plot\n",
    "fig = px.choropleth(\n",
    "    geo_counts,\n",
    "    locations=\"geography\",\n",
    "    locationmode=\"country names\",\n",
    "    color=\"count\",\n",
    "    title=\"LULC Mentions by Country/Region\",\n",
    "    color_continuous_scale=\"YlGnBu\"\n",
    ")\n",
    "fig.show()\n"
   ]
  },
  {
   "cell_type": "code",
   "execution_count": null,
   "metadata": {},
   "outputs": [
    {
     "name": "stdout",
     "output_type": "stream",
     "text": [
      "\n",
      "=== Input Data Sample ===\n",
      "   original_row                                       authors source_column  \\\n",
      "0             0  Sonam Wang; Lamchin Munkhnasan; Woo-Kyun Lee      abstract   \n",
      "1             0  Sonam Wang; Lamchin Munkhnasan; Woo-Kyun Lee      abstract   \n",
      "2             0  Sonam Wang; Lamchin Munkhnasan; Woo-Kyun Lee      abstract   \n",
      "3             0  Sonam Wang; Lamchin Munkhnasan; Woo-Kyun Lee      abstract   \n",
      "4             0  Sonam Wang; Lamchin Munkhnasan; Woo-Kyun Lee      abstract   \n",
      "\n",
      "                type term   value geography  \\\n",
      "0  percentage_change  NaN  12.77%   Thimphu   \n",
      "1  percentage_change  NaN  52.88%   Thimphu   \n",
      "2  percentage_change  NaN   65.5%   Thimphu   \n",
      "3  percentage_change  NaN  15.25%   Thimphu   \n",
      "4  percentage_change  NaN   1.01%   Thimphu   \n",
      "\n",
      "                                             context  \n",
      "0  observed a significant increase (12.77%) in built  \n",
      "1                 up area from 2002 (52.88%) to 2018  \n",
      "2                       %) to 2018 (65.5%), followed  \n",
      "3  forest cover declined drastically (15.25%) fol...  \n",
      "4           ) followed by agriculture (1.01%). Rapid  \n",
      "\n",
      "=== Network Data ===\n",
      "[{'source': 'QUANT_CHANGE', 'target': '12.77%', 'label': '12.77%'}, {'source': 'QUANT_CHANGE', 'target': '52.88%', 'label': '52.88%'}, {'source': 'QUANT_CHANGE', 'target': '65.5%', 'label': '65.5%'}]\n",
      "\n",
      "Nodes: ['QUANT_CHANGE', '12.77%', '52.88%', '65.5%', '15.25%', '1.01%', '73.21%', '16%', 'LAND_COVER', 'built-up area', 'bare ground', 'forest', '15.75%', '16.32%', 'plantation', 'water body', 'lake', 'agricultural land', 'River', '37.6%', '3%', '5%', '3.6%', '2.9%', '7.2%', '6.4%', '90%', '21.5%', '56.9%', '57.4%', '17%', '7%', '100%', 'Agricultural land', 'cropland', 'urban area', '50%', '9.9%', '8.5%', '1.5%', '93%', '1%', '7.8%', '1.1%', '60%', '45%', '43%', '20%', 'grassland', 'temperate forest', 'tundra', '89.14%', '91.41%', '86.55%', '25%', '85%', 'farmland', 'wetland', 'Grassland', '2%', '0.93%', '80%', '0.01%', '99.2%', 'industrial area', 'shrubland', '97.1%', 'Lagoon', '10%', '4.65%', '-12.69%', '0.53%', '-3.88%', '-4.67%', '4.78%', '1.32%', '15.39%', '16.04%', '18.49%', '-3.10%', '1.12%', '1.11%', '7.60%', '5.70%', '4.10%', '70%', '-0.14%', '-0.47%', '-0.09%', '-0.18%', '-0.02%', '150%', '15%', 'woodland', '3.03%', '95.2%', '2.4%', '9.5%', '38%', '79%', '74.7%', '73%', '23.7%', '23%', '40%', '88%', '95%', '31%', '55%', '68%', 'river', 'reservoir', '20.9%', '13.7%', '7.22%', '34.6%', '24.0%', '4.8%', '45.1%', '67.1%', '2.2%', '10.7%', '83%', '96%', '94%', '44%', '36.4%', '1.3%', '41.8%', '11.18%', '8.3%', '1983.87%', '54.9%', '72%', '48.83%', '38.8%', '164%', '80.8%', '395.9%', '93.3%', '88.8%', '58.2%', '76.9%', '90.3%', '76.1%', '85.1%', 'Forest', 'grazing land', 'Water Body', 'Wetland', '8.9%', '12.89%', '13.9%', '10.5%', '20.1%', '23.2%', '3.2%', '9.1%', '27.6%', '21.7%', '36.1%', '54.1%', '26.5%', '78.46%', '-8.31%', '-6.11%', '113.94%', '30%', '78%', '77%', '82%', '85.98%', '5.17%', '3.39%', '0.84%', '0.26%', '9.67%', '40.30%', '59.36%', '30.63%', 'Built-up area', '89%', '46%', '172%', 'Pasture', 'pasture', '70.5%', '20.3%', '7.48%', '1.47%', '0.25%', '0.17%', '7.12%', '1.72%', '10.2%', '1.7%', '3.8%', '-0.34%', '2.8%', '-0.83%', '-0.68%', '-0.06%', '-0.2%', '63.5%', '33%', '31.6%', 'Savanna', 'Mangrove', 'mangrove', 'Plantation', 'Steppe', 'savanna', '13%', '2.44%', '3.35%', '-1.50%', '-5.93%', '-2.24%', '-0.98%', '-7.40%', '8.27%', '7.81%', '13.5%', '2.6%', '28%', '-8.27%', '-4.75%', '29%', '3.64%', '0%', 'commercial area', '56.39%', '70.19%', '0.73%', '1.42%', '26.18%', '19.30%', '61.99%', '23.80%', '1.77%', '11.25%', '1.19%', '1.92%', '7.16%', '92.22%', '24.49%', '54.78%', '26.27%', '61.01%', '39.14%', 'bushland', 'Bushland', '11.91%', '13.67%', '0.82%', '22.25%', '4.15%', '5.46%', '4.21%', '30.11%', '25.25%', '24.78%', '19.18%', '0.68%', '1.28%', '2.56%', '0.03%', '18.9%', '92.53%', '92%', '92.69%', '10.22%', '29.12%', '66.15%', '53.39%', '5.63%', 'desert', '1.6%', '96.32%', '64.5%', 'Lake', 'Cropland', 'residential area', '75%', '65%', '81%', '47%', '34%', '57%', '53%', '71%', '66%', '63%', '0.9%', '-22.1%', '-7.7%', '-0.1%', '-50.9%', '22.3%', '0.7%', '-22.5%', '11.76%', '0.37%', '-68.1%', '23.8%', '0.67%', '-76.8%', '47.4%', '1.48%', '-64.5%', '46.1%', '1.44%', '2.55%', '0.31%', '12.8%', '13.2%', '2.59%', '4.5%', '-47.4%', '16.2%', '-23.8%', '11.9%', '10.51%', '2.82%', '0.92%', '-22.3%', 'rainforest', '92.6%', '628%', 'Built-up Area', '15.64%', '9.56%', '18.01%', '13.01%', '42%', '36.74%', '19.77%', '19.76%', '11.32%', '33.33%', '15.6%', '15.1%', '-3.41%', '-4.65%', '92.14%', '94.63%', '95.93%', '-17%', '-4.5%', '31.21%', '8.81%', '26.81%', '-2.45%', '0.8%', '2.5%', '4%', '3.9%', '99%', '91%', '98.22%', '98.53%', '98.5%', '0.08%', '6.54%', '21.26%', '0.9077%', '0.2792%', '6.7%', '86.1451%', '78.0%', '69%', '87%', '67%', '9%', '12%', '27%', '35%', 'permafrost', '88.2%', '85.8%', '45.8%', '40.8%', '8%', '1.4%', '12.5%', '11.4%', '-6.8%', '-1.0%', '-0.7%', 'Urban area', 'Water body', 'rocky area', '39.15%', '48.38%', '19.58%', '26.23%', '16.94%', '8.07%', '91.43%', '87.59%', '85.71%', '61.19%', '72.98%', '73.24%', 'Agricultural Land', 'Urban Area', 'steppe', '77.35%', '84.55%', 'Residential area', 'Farmland', '8.51%', '51%', '41%', '37%', '1.2%', '68.3%', '11.6%', '2.1%', '-8.51%', '68.07%', 'tropical forest', '54%', '22%', 'peatland', 'arable land', '70.2%', '67.8%', '68.7%', '46.5%', '52.3%', '40.5%', '0.45%', '11.7%', '7.0%', '8.64%', '1.40%', '27.7%', '0.80%', '22.18%', '18.94%', '46.81%', 'orchard', '25.93%', '16.00%', '9.86%', '21%', '6.1%', '11%', '19%', '+104%', '+7%', '24%', '18%', '13.8%', '12.7%', '5.7%', '0.39%', '0.4%', 'Peatland', 'marsh', '59.3%', '56.5%', '55.40%', '15.90%', '12.33%', '7.50%', '7.29%', '1.39%', '72.53%', '77.64%', '48.94%', '85.31%', '43.45%', '30.1%', '83.26%', '38.74%', '4.1%', '39%', '11.5%', '52%', '14%', '6.6%', '6%', '86%', '92.8%', '20.46%', '4.38%', '38.26%', '34.07%', '15.08%', '4.25%', '3.51%', '41.35%', '35.81%', '12.75%', '3.60%', '2.66%', '74.75%', '17.63%', '4.95%', '16.4%', 'Shrubland', '130.29%', '8.44%', '-35.33%', '86.83%', '17.84%', '19.69%', '14.75%', '16.66%', '2.81%', '2.72%', '0.29%', '64.17%', '20.62%', '7.44%', '4.79%', '11.79%', '24.05%', '9.71%', '56.61%', '49.11%', '40.50%', '44.72%', '6.75%', '10.70%', '8.36%', '58.52%', '~82%', '~73%', '91.5%', '73.8%', '77.8%', '64%', '7.5%', '48.6%', '98%', '15.7%', '0.34%', '9.2%', '4.97%', '1.85%', '21.4%', '28.2%', '37.1%', '23.64%', 'Grazing land', '32%', 'Arable land', '86.2%', '98.6%', '82.1%', '99.4%', '±0.9%', '19.2%', '±3.1%', '96.4%', '5.8%', '~93%', '~6.7%', 'Reservoir', '2.88%', '4.02%', '6.77%', '7.66%', '0.30%', '1.03%', '2.96%', '5.24%', '6.56%', '14.8%', '39.32%', '29.49%', '16.67%', '4.87%', '6.14%', '66.72%', '87.69%', '92.4%', '86.38%', '95.24%', '2.11%', '67.13%', '0.99%', '2.05%', '38.96%', '8.61%', '12.24%', '8.37%', '5.53%', '13.59%', '24.42%', '97%', '78.35%', '0.5%', '74%', '0.48%', '1.45%', '8.7%', '~60%', '0.6%', '6.8%', '87.12%', '15.19%', '0.13%', '36.08%', '28.23%', '16.60%', '17.68%', '1.37%', '29.38%', '12.65%', '0.10%', '18.09%', '11.16%', '10.9%', '0.89%', '17.48%', '1.24%', '0.69%', '0.24%', '0.15%', '40.63%', '84.86%', '52.90%', '82.03%', '38.44%', '34.25%', '132.28%', '461.20%', '60.50%', '75.80%', '86.00%', '58.38%', '51.23%', '2.85%', '86.95%', '17.91%', '50.09%', '47.56%', '69.15%', '272.55%', '10.67%', '61.44%', '~0.1%', '0.2%', '84.21%', '83.32%', '91.40%', '79.02%', '89.66%', '15.61%', '8.05%', '15.82%', '43.12%', '63.0%', '16.5%', '7.9%', '34.8%', '47.6%', '99.0%', '145.9%', '49.2%', '266.8%', '21.6%', '3.4%', '25.8%', '60.4%', '74.0%', '24.5%', '12.4%', '370.9%', '1.9%', '25.4%', '22.5%', '83.1%', '86.6%', '44.6%', '61%', '37.38%', '67.41%', '13.61%', '25.24%', '-40%', '-13%', '-70%', '-20%', 'swamp', '82.80%', '85.57%', '89.82%', '80.51%', '82.54%', '87.84%', '39.9%', '2.57%', '38.0%', '25.9%', '25.5%', '16.1%', '36.27%', '42.64%', '51.86%', '21.55%', '20.63%', '13.55%', '22.7%', '294.09%', '45.57%', '20.45%', '-0.79%', '-0.22%', '11.31%', '1.75%', '0.94%', '0.44%', '418.5%', '29.1%', '6.43%', '83.56%', '13.80%', '14.10%', '3.90%', '18.80%', '38.81%', '15.9%', '7.94%', '15.2%', '14.5%', '5.6%', '49%', '48.67%', '-3.04%', '-4.11%', '-0.08%', '-3.12%', '0.52%', '-0.82%', '97.5%', '-12.67%', '-27.47%', '89.57%', '97.75%', '92.36%', '163%', '2.62%', '89.62%', '13.32%', '+11.53%', '0.858%', '+25.94%', '0.90%', '33.4%', '57.5%', '47.55%', '48%', '136.6%', '60.6%', '38.6%', '29.46%', '33.73%', '37.02%', '3.41%', '62.98%', '136.55%', '60.63%', '7.95%', '38.56%', '23.5%', '21.1%', '44.7%', '18.8%', '2.3%', '18.4%', '24.9%', '29.4%', '24.1%', '14.9%', '9.4%', '12.3%', '-26.26%', '-0.76%', '-5.86%', '-10.03%', '271.19%', '2.36%', '8.76%', '223.2%', '448.84%', '-33.43%', '-18.69%', '-3.35%', '~15%', 'Tropical Forest', '1.43%', 'Tropical forest', 'Rainforest', '8.1%', '19.5%', '3.7%', '12.1%', '8.6%', '14.4%', '10.3%', '4.9%', '66.19%', '29.68%', '35.77%', '5.95%', '6.04%', '8.31%', '6.35%', '9.89%', '10.92%', '18.45%', '29.99%', '17.8%', '17.38%', '26%', '16.51%', '19.97%', '19.73%', '1.36%']\n",
      "Edges: [('QUANT_CHANGE', '12.77%'), ('QUANT_CHANGE', '52.88%'), ('QUANT_CHANGE', '65.5%'), ('QUANT_CHANGE', '15.25%'), ('QUANT_CHANGE', '1.01%'), ('QUANT_CHANGE', '73.21%'), ('QUANT_CHANGE', '16%'), ('QUANT_CHANGE', '15.75%'), ('QUANT_CHANGE', '16.32%'), ('QUANT_CHANGE', '37.6%'), ('QUANT_CHANGE', '3%'), ('QUANT_CHANGE', '5%'), ('QUANT_CHANGE', '3.6%'), ('QUANT_CHANGE', '2.9%'), ('QUANT_CHANGE', '7.2%'), ('QUANT_CHANGE', '6.4%'), ('QUANT_CHANGE', '90%'), ('QUANT_CHANGE', '21.5%'), ('QUANT_CHANGE', '56.9%'), ('QUANT_CHANGE', '57.4%'), ('QUANT_CHANGE', '17%'), ('QUANT_CHANGE', '7%'), ('QUANT_CHANGE', '100%'), ('QUANT_CHANGE', '50%'), ('QUANT_CHANGE', '9.9%'), ('QUANT_CHANGE', '8.5%'), ('QUANT_CHANGE', '1.5%'), ('QUANT_CHANGE', '93%'), ('QUANT_CHANGE', '1%'), ('QUANT_CHANGE', '7.8%'), ('QUANT_CHANGE', '1.1%'), ('QUANT_CHANGE', '60%'), ('QUANT_CHANGE', '45%'), ('QUANT_CHANGE', '43%'), ('QUANT_CHANGE', '20%'), ('QUANT_CHANGE', '89.14%'), ('QUANT_CHANGE', '91.41%'), ('QUANT_CHANGE', '86.55%'), ('QUANT_CHANGE', '25%'), ('QUANT_CHANGE', '85%'), ('QUANT_CHANGE', '2%'), ('QUANT_CHANGE', '0.93%'), ('QUANT_CHANGE', '80%'), ('QUANT_CHANGE', '0.01%'), ('QUANT_CHANGE', '99.2%'), ('QUANT_CHANGE', '97.1%'), ('QUANT_CHANGE', '10%'), ('QUANT_CHANGE', '4.65%'), ('QUANT_CHANGE', '-12.69%'), ('QUANT_CHANGE', '0.53%'), ('QUANT_CHANGE', '-3.88%'), ('QUANT_CHANGE', '-4.67%'), ('QUANT_CHANGE', '4.78%'), ('QUANT_CHANGE', '1.32%'), ('QUANT_CHANGE', '15.39%'), ('QUANT_CHANGE', '16.04%'), ('QUANT_CHANGE', '18.49%'), ('QUANT_CHANGE', '-3.10%'), ('QUANT_CHANGE', '1.12%'), ('QUANT_CHANGE', '1.11%'), ('QUANT_CHANGE', '7.60%'), ('QUANT_CHANGE', '5.70%'), ('QUANT_CHANGE', '4.10%'), ('QUANT_CHANGE', '70%'), ('QUANT_CHANGE', '-0.14%'), ('QUANT_CHANGE', '-0.47%'), ('QUANT_CHANGE', '-0.09%'), ('QUANT_CHANGE', '-0.18%'), ('QUANT_CHANGE', '-0.02%'), ('QUANT_CHANGE', '150%'), ('QUANT_CHANGE', '15%'), ('QUANT_CHANGE', '3.03%'), ('QUANT_CHANGE', '95.2%'), ('QUANT_CHANGE', '2.4%'), ('QUANT_CHANGE', '9.5%'), ('QUANT_CHANGE', '38%'), ('QUANT_CHANGE', '79%'), ('QUANT_CHANGE', '74.7%'), ('QUANT_CHANGE', '73%'), ('QUANT_CHANGE', '23.7%'), ('QUANT_CHANGE', '23%'), ('QUANT_CHANGE', '40%'), ('QUANT_CHANGE', '88%'), ('QUANT_CHANGE', '95%'), ('QUANT_CHANGE', '31%'), ('QUANT_CHANGE', '55%'), ('QUANT_CHANGE', '68%'), ('QUANT_CHANGE', '20.9%'), ('QUANT_CHANGE', '13.7%'), ('QUANT_CHANGE', '7.22%'), ('QUANT_CHANGE', '34.6%'), ('QUANT_CHANGE', '24.0%'), ('QUANT_CHANGE', '4.8%'), ('QUANT_CHANGE', '45.1%'), ('QUANT_CHANGE', '67.1%'), ('QUANT_CHANGE', '2.2%'), ('QUANT_CHANGE', '10.7%'), ('QUANT_CHANGE', '83%'), ('QUANT_CHANGE', '96%'), ('QUANT_CHANGE', '94%'), ('QUANT_CHANGE', '44%'), ('QUANT_CHANGE', '36.4%'), ('QUANT_CHANGE', '1.3%'), ('QUANT_CHANGE', '41.8%'), ('QUANT_CHANGE', '11.18%'), ('QUANT_CHANGE', '8.3%'), ('QUANT_CHANGE', '1983.87%'), ('QUANT_CHANGE', '54.9%'), ('QUANT_CHANGE', '72%'), ('QUANT_CHANGE', '48.83%'), ('QUANT_CHANGE', '38.8%'), ('QUANT_CHANGE', '164%'), ('QUANT_CHANGE', '80.8%'), ('QUANT_CHANGE', '395.9%'), ('QUANT_CHANGE', '93.3%'), ('QUANT_CHANGE', '88.8%'), ('QUANT_CHANGE', '58.2%'), ('QUANT_CHANGE', '76.9%'), ('QUANT_CHANGE', '90.3%'), ('QUANT_CHANGE', '76.1%'), ('QUANT_CHANGE', '85.1%'), ('QUANT_CHANGE', '8.9%'), ('QUANT_CHANGE', '12.89%'), ('QUANT_CHANGE', '13.9%'), ('QUANT_CHANGE', '10.5%'), ('QUANT_CHANGE', '20.1%'), ('QUANT_CHANGE', '23.2%'), ('QUANT_CHANGE', '3.2%'), ('QUANT_CHANGE', '9.1%'), ('QUANT_CHANGE', '27.6%'), ('QUANT_CHANGE', '21.7%'), ('QUANT_CHANGE', '36.1%'), ('QUANT_CHANGE', '54.1%'), ('QUANT_CHANGE', '26.5%'), ('QUANT_CHANGE', '78.46%'), ('QUANT_CHANGE', '-8.31%'), ('QUANT_CHANGE', '-6.11%'), ('QUANT_CHANGE', '113.94%'), ('QUANT_CHANGE', '30%'), ('QUANT_CHANGE', '78%'), ('QUANT_CHANGE', '77%'), ('QUANT_CHANGE', '82%'), ('QUANT_CHANGE', '85.98%'), ('QUANT_CHANGE', '5.17%'), ('QUANT_CHANGE', '3.39%'), ('QUANT_CHANGE', '0.84%'), ('QUANT_CHANGE', '0.26%'), ('QUANT_CHANGE', '9.67%'), ('QUANT_CHANGE', '40.30%'), ('QUANT_CHANGE', '59.36%'), ('QUANT_CHANGE', '30.63%'), ('QUANT_CHANGE', '89%'), ('QUANT_CHANGE', '46%'), ('QUANT_CHANGE', '172%'), ('QUANT_CHANGE', '70.5%'), ('QUANT_CHANGE', '20.3%'), ('QUANT_CHANGE', '7.48%'), ('QUANT_CHANGE', '1.47%'), ('QUANT_CHANGE', '0.25%'), ('QUANT_CHANGE', '0.17%'), ('QUANT_CHANGE', '7.12%'), ('QUANT_CHANGE', '1.72%'), ('QUANT_CHANGE', '10.2%'), ('QUANT_CHANGE', '1.7%'), ('QUANT_CHANGE', '3.8%'), ('QUANT_CHANGE', '-0.34%'), ('QUANT_CHANGE', '2.8%'), ('QUANT_CHANGE', '-0.83%'), ('QUANT_CHANGE', '-0.68%'), ('QUANT_CHANGE', '-0.06%'), ('QUANT_CHANGE', '-0.2%'), ('QUANT_CHANGE', '63.5%'), ('QUANT_CHANGE', '33%'), ('QUANT_CHANGE', '31.6%'), ('QUANT_CHANGE', '13%'), ('QUANT_CHANGE', '2.44%'), ('QUANT_CHANGE', '3.35%'), ('QUANT_CHANGE', '-1.50%'), ('QUANT_CHANGE', '-5.93%'), ('QUANT_CHANGE', '-2.24%'), ('QUANT_CHANGE', '-0.98%'), ('QUANT_CHANGE', '-7.40%'), ('QUANT_CHANGE', '8.27%'), ('QUANT_CHANGE', '7.81%'), ('QUANT_CHANGE', '13.5%'), ('QUANT_CHANGE', '2.6%'), ('QUANT_CHANGE', '28%'), ('QUANT_CHANGE', '-8.27%'), ('QUANT_CHANGE', '-4.75%'), ('QUANT_CHANGE', '29%'), ('QUANT_CHANGE', '3.64%'), ('QUANT_CHANGE', '0%'), ('QUANT_CHANGE', '56.39%'), ('QUANT_CHANGE', '70.19%'), ('QUANT_CHANGE', '0.73%'), ('QUANT_CHANGE', '1.42%'), ('QUANT_CHANGE', '26.18%'), ('QUANT_CHANGE', '19.30%'), ('QUANT_CHANGE', '61.99%'), ('QUANT_CHANGE', '23.80%'), ('QUANT_CHANGE', '1.77%'), ('QUANT_CHANGE', '11.25%'), ('QUANT_CHANGE', '1.19%'), ('QUANT_CHANGE', '1.92%'), ('QUANT_CHANGE', '7.16%'), ('QUANT_CHANGE', '92.22%'), ('QUANT_CHANGE', '24.49%'), ('QUANT_CHANGE', '54.78%'), ('QUANT_CHANGE', '26.27%'), ('QUANT_CHANGE', '61.01%'), ('QUANT_CHANGE', '39.14%'), ('QUANT_CHANGE', '11.91%'), ('QUANT_CHANGE', '13.67%'), ('QUANT_CHANGE', '0.82%'), ('QUANT_CHANGE', '22.25%'), ('QUANT_CHANGE', '4.15%'), ('QUANT_CHANGE', '5.46%'), ('QUANT_CHANGE', '4.21%'), ('QUANT_CHANGE', '30.11%'), ('QUANT_CHANGE', '25.25%'), ('QUANT_CHANGE', '24.78%'), ('QUANT_CHANGE', '19.18%'), ('QUANT_CHANGE', '0.68%'), ('QUANT_CHANGE', '1.28%'), ('QUANT_CHANGE', '2.56%'), ('QUANT_CHANGE', '0.03%'), ('QUANT_CHANGE', '18.9%'), ('QUANT_CHANGE', '92.53%'), ('QUANT_CHANGE', '92%'), ('QUANT_CHANGE', '92.69%'), ('QUANT_CHANGE', '10.22%'), ('QUANT_CHANGE', '29.12%'), ('QUANT_CHANGE', '66.15%'), ('QUANT_CHANGE', '53.39%'), ('QUANT_CHANGE', '5.63%'), ('QUANT_CHANGE', '1.6%'), ('QUANT_CHANGE', '96.32%'), ('QUANT_CHANGE', '64.5%'), ('QUANT_CHANGE', '75%'), ('QUANT_CHANGE', '65%'), ('QUANT_CHANGE', '81%'), ('QUANT_CHANGE', '47%'), ('QUANT_CHANGE', '34%'), ('QUANT_CHANGE', '57%'), ('QUANT_CHANGE', '53%'), ('QUANT_CHANGE', '71%'), ('QUANT_CHANGE', '66%'), ('QUANT_CHANGE', '63%'), ('QUANT_CHANGE', '0.9%'), ('QUANT_CHANGE', '-22.1%'), ('QUANT_CHANGE', '-7.7%'), ('QUANT_CHANGE', '-0.1%'), ('QUANT_CHANGE', '-50.9%'), ('QUANT_CHANGE', '22.3%'), ('QUANT_CHANGE', '0.7%'), ('QUANT_CHANGE', '-22.5%'), ('QUANT_CHANGE', '11.76%'), ('QUANT_CHANGE', '0.37%'), ('QUANT_CHANGE', '-68.1%'), ('QUANT_CHANGE', '23.8%'), ('QUANT_CHANGE', '0.67%'), ('QUANT_CHANGE', '-76.8%'), ('QUANT_CHANGE', '47.4%'), ('QUANT_CHANGE', '1.48%'), ('QUANT_CHANGE', '-64.5%'), ('QUANT_CHANGE', '46.1%'), ('QUANT_CHANGE', '1.44%'), ('QUANT_CHANGE', '2.55%'), ('QUANT_CHANGE', '0.31%'), ('QUANT_CHANGE', '12.8%'), ('QUANT_CHANGE', '13.2%'), ('QUANT_CHANGE', '2.59%'), ('QUANT_CHANGE', '4.5%'), ('QUANT_CHANGE', '-47.4%'), ('QUANT_CHANGE', '16.2%'), ('QUANT_CHANGE', '-23.8%'), ('QUANT_CHANGE', '11.9%'), ('QUANT_CHANGE', '10.51%'), ('QUANT_CHANGE', '2.82%'), ('QUANT_CHANGE', '0.92%'), ('QUANT_CHANGE', '-22.3%'), ('QUANT_CHANGE', '92.6%'), ('QUANT_CHANGE', '628%'), ('QUANT_CHANGE', '15.64%'), ('QUANT_CHANGE', '9.56%'), ('QUANT_CHANGE', '18.01%'), ('QUANT_CHANGE', '13.01%'), ('QUANT_CHANGE', '42%'), ('QUANT_CHANGE', '36.74%'), ('QUANT_CHANGE', '19.77%'), ('QUANT_CHANGE', '19.76%'), ('QUANT_CHANGE', '11.32%'), ('QUANT_CHANGE', '33.33%'), ('QUANT_CHANGE', '15.6%'), ('QUANT_CHANGE', '15.1%'), ('QUANT_CHANGE', '-3.41%'), ('QUANT_CHANGE', '-4.65%'), ('QUANT_CHANGE', '92.14%'), ('QUANT_CHANGE', '94.63%'), ('QUANT_CHANGE', '95.93%'), ('QUANT_CHANGE', '-17%'), ('QUANT_CHANGE', '-4.5%'), ('QUANT_CHANGE', '31.21%'), ('QUANT_CHANGE', '8.81%'), ('QUANT_CHANGE', '26.81%'), ('QUANT_CHANGE', '-2.45%'), ('QUANT_CHANGE', '0.8%'), ('QUANT_CHANGE', '2.5%'), ('QUANT_CHANGE', '4%'), ('QUANT_CHANGE', '3.9%'), ('QUANT_CHANGE', '99%'), ('QUANT_CHANGE', '91%'), ('QUANT_CHANGE', '98.22%'), ('QUANT_CHANGE', '98.53%'), ('QUANT_CHANGE', '98.5%'), ('QUANT_CHANGE', '0.08%'), ('QUANT_CHANGE', '6.54%'), ('QUANT_CHANGE', '21.26%'), ('QUANT_CHANGE', '0.9077%'), ('QUANT_CHANGE', '0.2792%'), ('QUANT_CHANGE', '6.7%'), ('QUANT_CHANGE', '86.1451%'), ('QUANT_CHANGE', '78.0%'), ('QUANT_CHANGE', '69%'), ('QUANT_CHANGE', '87%'), ('QUANT_CHANGE', '67%'), ('QUANT_CHANGE', '9%'), ('QUANT_CHANGE', '12%'), ('QUANT_CHANGE', '27%'), ('QUANT_CHANGE', '35%'), ('QUANT_CHANGE', '88.2%'), ('QUANT_CHANGE', '85.8%'), ('QUANT_CHANGE', '45.8%'), ('QUANT_CHANGE', '40.8%'), ('QUANT_CHANGE', '8%'), ('QUANT_CHANGE', '1.4%'), ('QUANT_CHANGE', '12.5%'), ('QUANT_CHANGE', '11.4%'), ('QUANT_CHANGE', '-6.8%'), ('QUANT_CHANGE', '-1.0%'), ('QUANT_CHANGE', '-0.7%'), ('QUANT_CHANGE', '39.15%'), ('QUANT_CHANGE', '48.38%'), ('QUANT_CHANGE', '19.58%'), ('QUANT_CHANGE', '26.23%'), ('QUANT_CHANGE', '16.94%'), ('QUANT_CHANGE', '8.07%'), ('QUANT_CHANGE', '91.43%'), ('QUANT_CHANGE', '87.59%'), ('QUANT_CHANGE', '85.71%'), ('QUANT_CHANGE', '61.19%'), ('QUANT_CHANGE', '72.98%'), ('QUANT_CHANGE', '73.24%'), ('QUANT_CHANGE', '77.35%'), ('QUANT_CHANGE', '84.55%'), ('QUANT_CHANGE', '8.51%'), ('QUANT_CHANGE', '51%'), ('QUANT_CHANGE', '41%'), ('QUANT_CHANGE', '37%'), ('QUANT_CHANGE', '1.2%'), ('QUANT_CHANGE', '68.3%'), ('QUANT_CHANGE', '11.6%'), ('QUANT_CHANGE', '2.1%'), ('QUANT_CHANGE', '-8.51%'), ('QUANT_CHANGE', '68.07%'), ('QUANT_CHANGE', '54%'), ('QUANT_CHANGE', '22%'), ('QUANT_CHANGE', '70.2%'), ('QUANT_CHANGE', '67.8%'), ('QUANT_CHANGE', '68.7%'), ('QUANT_CHANGE', '46.5%'), ('QUANT_CHANGE', '52.3%'), ('QUANT_CHANGE', '40.5%'), ('QUANT_CHANGE', '0.45%'), ('QUANT_CHANGE', '11.7%'), ('QUANT_CHANGE', '7.0%'), ('QUANT_CHANGE', '8.64%'), ('QUANT_CHANGE', '1.40%'), ('QUANT_CHANGE', '27.7%'), ('QUANT_CHANGE', '0.80%'), ('QUANT_CHANGE', '22.18%'), ('QUANT_CHANGE', '18.94%'), ('QUANT_CHANGE', '46.81%'), ('QUANT_CHANGE', '25.93%'), ('QUANT_CHANGE', '16.00%'), ('QUANT_CHANGE', '9.86%'), ('QUANT_CHANGE', '21%'), ('QUANT_CHANGE', '6.1%'), ('QUANT_CHANGE', '11%'), ('QUANT_CHANGE', '19%'), ('QUANT_CHANGE', '+104%'), ('QUANT_CHANGE', '+7%'), ('QUANT_CHANGE', '24%'), ('QUANT_CHANGE', '18%'), ('QUANT_CHANGE', '13.8%'), ('QUANT_CHANGE', '12.7%'), ('QUANT_CHANGE', '5.7%'), ('QUANT_CHANGE', '0.39%'), ('QUANT_CHANGE', '0.4%'), ('QUANT_CHANGE', '59.3%'), ('QUANT_CHANGE', '56.5%'), ('QUANT_CHANGE', '55.40%'), ('QUANT_CHANGE', '15.90%'), ('QUANT_CHANGE', '12.33%'), ('QUANT_CHANGE', '7.50%'), ('QUANT_CHANGE', '7.29%'), ('QUANT_CHANGE', '1.39%'), ('QUANT_CHANGE', '72.53%'), ('QUANT_CHANGE', '77.64%'), ('QUANT_CHANGE', '48.94%'), ('QUANT_CHANGE', '85.31%'), ('QUANT_CHANGE', '43.45%'), ('QUANT_CHANGE', '30.1%'), ('QUANT_CHANGE', '83.26%'), ('QUANT_CHANGE', '38.74%'), ('QUANT_CHANGE', '4.1%'), ('QUANT_CHANGE', '39%'), ('QUANT_CHANGE', '11.5%'), ('QUANT_CHANGE', '52%'), ('QUANT_CHANGE', '14%'), ('QUANT_CHANGE', '6.6%'), ('QUANT_CHANGE', '6%'), ('QUANT_CHANGE', '86%'), ('QUANT_CHANGE', '92.8%'), ('QUANT_CHANGE', '20.46%'), ('QUANT_CHANGE', '4.38%'), ('QUANT_CHANGE', '38.26%'), ('QUANT_CHANGE', '34.07%'), ('QUANT_CHANGE', '15.08%'), ('QUANT_CHANGE', '4.25%'), ('QUANT_CHANGE', '3.51%'), ('QUANT_CHANGE', '41.35%'), ('QUANT_CHANGE', '35.81%'), ('QUANT_CHANGE', '12.75%'), ('QUANT_CHANGE', '3.60%'), ('QUANT_CHANGE', '2.66%'), ('QUANT_CHANGE', '74.75%'), ('QUANT_CHANGE', '17.63%'), ('QUANT_CHANGE', '4.95%'), ('QUANT_CHANGE', '16.4%'), ('QUANT_CHANGE', '130.29%'), ('QUANT_CHANGE', '8.44%'), ('QUANT_CHANGE', '-35.33%'), ('QUANT_CHANGE', '86.83%'), ('QUANT_CHANGE', '17.84%'), ('QUANT_CHANGE', '19.69%'), ('QUANT_CHANGE', '14.75%'), ('QUANT_CHANGE', '16.66%'), ('QUANT_CHANGE', '2.81%'), ('QUANT_CHANGE', '2.72%'), ('QUANT_CHANGE', '0.29%'), ('QUANT_CHANGE', '64.17%'), ('QUANT_CHANGE', '20.62%'), ('QUANT_CHANGE', '7.44%'), ('QUANT_CHANGE', '4.79%'), ('QUANT_CHANGE', '11.79%'), ('QUANT_CHANGE', '24.05%'), ('QUANT_CHANGE', '9.71%'), ('QUANT_CHANGE', '56.61%'), ('QUANT_CHANGE', '49.11%'), ('QUANT_CHANGE', '40.50%'), ('QUANT_CHANGE', '44.72%'), ('QUANT_CHANGE', '6.75%'), ('QUANT_CHANGE', '10.70%'), ('QUANT_CHANGE', '8.36%'), ('QUANT_CHANGE', '58.52%'), ('QUANT_CHANGE', '~82%'), ('QUANT_CHANGE', '~73%'), ('QUANT_CHANGE', '91.5%'), ('QUANT_CHANGE', '73.8%'), ('QUANT_CHANGE', '77.8%'), ('QUANT_CHANGE', '64%'), ('QUANT_CHANGE', '7.5%'), ('QUANT_CHANGE', '48.6%'), ('QUANT_CHANGE', '98%'), ('QUANT_CHANGE', '15.7%'), ('QUANT_CHANGE', '0.34%'), ('QUANT_CHANGE', '9.2%'), ('QUANT_CHANGE', '4.97%'), ('QUANT_CHANGE', '1.85%'), ('QUANT_CHANGE', '21.4%'), ('QUANT_CHANGE', '28.2%'), ('QUANT_CHANGE', '37.1%'), ('QUANT_CHANGE', '23.64%'), ('QUANT_CHANGE', '32%'), ('QUANT_CHANGE', '86.2%'), ('QUANT_CHANGE', '98.6%'), ('QUANT_CHANGE', '82.1%'), ('QUANT_CHANGE', '99.4%'), ('QUANT_CHANGE', '±0.9%'), ('QUANT_CHANGE', '19.2%'), ('QUANT_CHANGE', '±3.1%'), ('QUANT_CHANGE', '96.4%'), ('QUANT_CHANGE', '5.8%'), ('QUANT_CHANGE', '~93%'), ('QUANT_CHANGE', '~6.7%'), ('QUANT_CHANGE', '2.88%'), ('QUANT_CHANGE', '4.02%'), ('QUANT_CHANGE', '6.77%'), ('QUANT_CHANGE', '7.66%'), ('QUANT_CHANGE', '0.30%'), ('QUANT_CHANGE', '1.03%'), ('QUANT_CHANGE', '2.96%'), ('QUANT_CHANGE', '5.24%'), ('QUANT_CHANGE', '6.56%'), ('QUANT_CHANGE', '14.8%'), ('QUANT_CHANGE', '39.32%'), ('QUANT_CHANGE', '29.49%'), ('QUANT_CHANGE', '16.67%'), ('QUANT_CHANGE', '4.87%'), ('QUANT_CHANGE', '6.14%'), ('QUANT_CHANGE', '66.72%'), ('QUANT_CHANGE', '87.69%'), ('QUANT_CHANGE', '92.4%'), ('QUANT_CHANGE', '86.38%'), ('QUANT_CHANGE', '95.24%'), ('QUANT_CHANGE', '2.11%'), ('QUANT_CHANGE', '67.13%'), ('QUANT_CHANGE', '0.99%'), ('QUANT_CHANGE', '2.05%'), ('QUANT_CHANGE', '38.96%'), ('QUANT_CHANGE', '8.61%'), ('QUANT_CHANGE', '12.24%'), ('QUANT_CHANGE', '8.37%'), ('QUANT_CHANGE', '5.53%'), ('QUANT_CHANGE', '13.59%'), ('QUANT_CHANGE', '24.42%'), ('QUANT_CHANGE', '97%'), ('QUANT_CHANGE', '78.35%'), ('QUANT_CHANGE', '0.5%'), ('QUANT_CHANGE', '74%'), ('QUANT_CHANGE', '0.48%'), ('QUANT_CHANGE', '1.45%'), ('QUANT_CHANGE', '8.7%'), ('QUANT_CHANGE', '~60%'), ('QUANT_CHANGE', '0.6%'), ('QUANT_CHANGE', '6.8%'), ('QUANT_CHANGE', '87.12%'), ('QUANT_CHANGE', '15.19%'), ('QUANT_CHANGE', '0.13%'), ('QUANT_CHANGE', '36.08%'), ('QUANT_CHANGE', '28.23%'), ('QUANT_CHANGE', '16.60%'), ('QUANT_CHANGE', '17.68%'), ('QUANT_CHANGE', '1.37%'), ('QUANT_CHANGE', '29.38%'), ('QUANT_CHANGE', '12.65%'), ('QUANT_CHANGE', '0.10%'), ('QUANT_CHANGE', '18.09%'), ('QUANT_CHANGE', '11.16%'), ('QUANT_CHANGE', '10.9%'), ('QUANT_CHANGE', '0.89%'), ('QUANT_CHANGE', '17.48%'), ('QUANT_CHANGE', '1.24%'), ('QUANT_CHANGE', '0.69%'), ('QUANT_CHANGE', '0.24%'), ('QUANT_CHANGE', '0.15%'), ('QUANT_CHANGE', '40.63%'), ('QUANT_CHANGE', '84.86%'), ('QUANT_CHANGE', '52.90%'), ('QUANT_CHANGE', '82.03%'), ('QUANT_CHANGE', '38.44%'), ('QUANT_CHANGE', '34.25%'), ('QUANT_CHANGE', '132.28%'), ('QUANT_CHANGE', '461.20%'), ('QUANT_CHANGE', '60.50%'), ('QUANT_CHANGE', '75.80%'), ('QUANT_CHANGE', '86.00%'), ('QUANT_CHANGE', '58.38%'), ('QUANT_CHANGE', '51.23%'), ('QUANT_CHANGE', '2.85%'), ('QUANT_CHANGE', '86.95%'), ('QUANT_CHANGE', '17.91%'), ('QUANT_CHANGE', '50.09%'), ('QUANT_CHANGE', '47.56%'), ('QUANT_CHANGE', '69.15%'), ('QUANT_CHANGE', '272.55%'), ('QUANT_CHANGE', '10.67%'), ('QUANT_CHANGE', '61.44%'), ('QUANT_CHANGE', '~0.1%'), ('QUANT_CHANGE', '0.2%'), ('QUANT_CHANGE', '84.21%'), ('QUANT_CHANGE', '83.32%'), ('QUANT_CHANGE', '91.40%'), ('QUANT_CHANGE', '79.02%'), ('QUANT_CHANGE', '89.66%'), ('QUANT_CHANGE', '15.61%'), ('QUANT_CHANGE', '8.05%'), ('QUANT_CHANGE', '15.82%'), ('QUANT_CHANGE', '43.12%'), ('QUANT_CHANGE', '63.0%'), ('QUANT_CHANGE', '16.5%'), ('QUANT_CHANGE', '7.9%'), ('QUANT_CHANGE', '34.8%'), ('QUANT_CHANGE', '47.6%'), ('QUANT_CHANGE', '99.0%'), ('QUANT_CHANGE', '145.9%'), ('QUANT_CHANGE', '49.2%'), ('QUANT_CHANGE', '266.8%'), ('QUANT_CHANGE', '21.6%'), ('QUANT_CHANGE', '3.4%'), ('QUANT_CHANGE', '25.8%'), ('QUANT_CHANGE', '60.4%'), ('QUANT_CHANGE', '74.0%'), ('QUANT_CHANGE', '24.5%'), ('QUANT_CHANGE', '12.4%'), ('QUANT_CHANGE', '370.9%'), ('QUANT_CHANGE', '1.9%'), ('QUANT_CHANGE', '25.4%'), ('QUANT_CHANGE', '22.5%'), ('QUANT_CHANGE', '83.1%'), ('QUANT_CHANGE', '86.6%'), ('QUANT_CHANGE', '44.6%'), ('QUANT_CHANGE', '61%'), ('QUANT_CHANGE', '37.38%'), ('QUANT_CHANGE', '67.41%'), ('QUANT_CHANGE', '13.61%'), ('QUANT_CHANGE', '25.24%'), ('QUANT_CHANGE', '-40%'), ('QUANT_CHANGE', '-13%'), ('QUANT_CHANGE', '-70%'), ('QUANT_CHANGE', '-20%'), ('QUANT_CHANGE', '82.80%'), ('QUANT_CHANGE', '85.57%'), ('QUANT_CHANGE', '89.82%'), ('QUANT_CHANGE', '80.51%'), ('QUANT_CHANGE', '82.54%'), ('QUANT_CHANGE', '87.84%'), ('QUANT_CHANGE', '39.9%'), ('QUANT_CHANGE', '2.57%'), ('QUANT_CHANGE', '38.0%'), ('QUANT_CHANGE', '25.9%'), ('QUANT_CHANGE', '25.5%'), ('QUANT_CHANGE', '16.1%'), ('QUANT_CHANGE', '36.27%'), ('QUANT_CHANGE', '42.64%'), ('QUANT_CHANGE', '51.86%'), ('QUANT_CHANGE', '21.55%'), ('QUANT_CHANGE', '20.63%'), ('QUANT_CHANGE', '13.55%'), ('QUANT_CHANGE', '22.7%'), ('QUANT_CHANGE', '294.09%'), ('QUANT_CHANGE', '45.57%'), ('QUANT_CHANGE', '20.45%'), ('QUANT_CHANGE', '-0.79%'), ('QUANT_CHANGE', '-0.22%'), ('QUANT_CHANGE', '11.31%'), ('QUANT_CHANGE', '1.75%'), ('QUANT_CHANGE', '0.94%'), ('QUANT_CHANGE', '0.44%'), ('QUANT_CHANGE', '418.5%'), ('QUANT_CHANGE', '29.1%'), ('QUANT_CHANGE', '6.43%'), ('QUANT_CHANGE', '83.56%'), ('QUANT_CHANGE', '13.80%'), ('QUANT_CHANGE', '14.10%'), ('QUANT_CHANGE', '3.90%'), ('QUANT_CHANGE', '18.80%'), ('QUANT_CHANGE', '38.81%'), ('QUANT_CHANGE', '15.9%'), ('QUANT_CHANGE', '7.94%'), ('QUANT_CHANGE', '15.2%'), ('QUANT_CHANGE', '14.5%'), ('QUANT_CHANGE', '5.6%'), ('QUANT_CHANGE', '49%'), ('QUANT_CHANGE', '48.67%'), ('QUANT_CHANGE', '-3.04%'), ('QUANT_CHANGE', '-4.11%'), ('QUANT_CHANGE', '-0.08%'), ('QUANT_CHANGE', '-3.12%'), ('QUANT_CHANGE', '0.52%'), ('QUANT_CHANGE', '-0.82%'), ('QUANT_CHANGE', '97.5%'), ('QUANT_CHANGE', '-12.67%'), ('QUANT_CHANGE', '-27.47%'), ('QUANT_CHANGE', '89.57%'), ('QUANT_CHANGE', '97.75%'), ('QUANT_CHANGE', '92.36%'), ('QUANT_CHANGE', '163%'), ('QUANT_CHANGE', '2.62%'), ('QUANT_CHANGE', '89.62%'), ('QUANT_CHANGE', '13.32%'), ('QUANT_CHANGE', '+11.53%'), ('QUANT_CHANGE', '0.858%'), ('QUANT_CHANGE', '+25.94%'), ('QUANT_CHANGE', '0.90%'), ('QUANT_CHANGE', '33.4%'), ('QUANT_CHANGE', '57.5%'), ('QUANT_CHANGE', '47.55%'), ('QUANT_CHANGE', '48%'), ('QUANT_CHANGE', '136.6%'), ('QUANT_CHANGE', '60.6%'), ('QUANT_CHANGE', '38.6%'), ('QUANT_CHANGE', '29.46%'), ('QUANT_CHANGE', '33.73%'), ('QUANT_CHANGE', '37.02%'), ('QUANT_CHANGE', '3.41%'), ('QUANT_CHANGE', '62.98%'), ('QUANT_CHANGE', '136.55%'), ('QUANT_CHANGE', '60.63%'), ('QUANT_CHANGE', '7.95%'), ('QUANT_CHANGE', '38.56%'), ('QUANT_CHANGE', '23.5%'), ('QUANT_CHANGE', '21.1%'), ('QUANT_CHANGE', '44.7%'), ('QUANT_CHANGE', '18.8%'), ('QUANT_CHANGE', '2.3%'), ('QUANT_CHANGE', '18.4%'), ('QUANT_CHANGE', '24.9%'), ('QUANT_CHANGE', '29.4%'), ('QUANT_CHANGE', '24.1%'), ('QUANT_CHANGE', '14.9%'), ('QUANT_CHANGE', '9.4%'), ('QUANT_CHANGE', '12.3%'), ('QUANT_CHANGE', '-26.26%'), ('QUANT_CHANGE', '-0.76%'), ('QUANT_CHANGE', '-5.86%'), ('QUANT_CHANGE', '-10.03%'), ('QUANT_CHANGE', '271.19%'), ('QUANT_CHANGE', '2.36%'), ('QUANT_CHANGE', '8.76%'), ('QUANT_CHANGE', '223.2%'), ('QUANT_CHANGE', '448.84%'), ('QUANT_CHANGE', '-33.43%'), ('QUANT_CHANGE', '-18.69%'), ('QUANT_CHANGE', '-3.35%'), ('QUANT_CHANGE', '~15%'), ('QUANT_CHANGE', '1.43%'), ('QUANT_CHANGE', '8.1%'), ('QUANT_CHANGE', '19.5%'), ('QUANT_CHANGE', '3.7%'), ('QUANT_CHANGE', '12.1%'), ('QUANT_CHANGE', '8.6%'), ('QUANT_CHANGE', '14.4%'), ('QUANT_CHANGE', '10.3%'), ('QUANT_CHANGE', '4.9%'), ('QUANT_CHANGE', '66.19%'), ('QUANT_CHANGE', '29.68%'), ('QUANT_CHANGE', '35.77%'), ('QUANT_CHANGE', '5.95%'), ('QUANT_CHANGE', '6.04%'), ('QUANT_CHANGE', '8.31%'), ('QUANT_CHANGE', '6.35%'), ('QUANT_CHANGE', '9.89%'), ('QUANT_CHANGE', '10.92%'), ('QUANT_CHANGE', '18.45%'), ('QUANT_CHANGE', '29.99%'), ('QUANT_CHANGE', '17.8%'), ('QUANT_CHANGE', '17.38%'), ('QUANT_CHANGE', '26%'), ('QUANT_CHANGE', '16.51%'), ('QUANT_CHANGE', '19.97%'), ('QUANT_CHANGE', '19.73%'), ('QUANT_CHANGE', '1.36%'), ('LAND_COVER', 'built-up area'), ('LAND_COVER', 'bare ground'), ('LAND_COVER', 'forest'), ('LAND_COVER', 'plantation'), ('LAND_COVER', 'water body'), ('LAND_COVER', 'lake'), ('LAND_COVER', 'agricultural land'), ('LAND_COVER', 'River'), ('LAND_COVER', 'Agricultural land'), ('LAND_COVER', 'cropland'), ('LAND_COVER', 'urban area'), ('LAND_COVER', 'grassland'), ('LAND_COVER', 'temperate forest'), ('LAND_COVER', 'tundra'), ('LAND_COVER', 'farmland'), ('LAND_COVER', 'wetland'), ('LAND_COVER', 'Grassland'), ('LAND_COVER', 'industrial area'), ('LAND_COVER', 'shrubland'), ('LAND_COVER', 'Lagoon'), ('LAND_COVER', 'woodland'), ('LAND_COVER', 'river'), ('LAND_COVER', 'reservoir'), ('LAND_COVER', 'Forest'), ('LAND_COVER', 'grazing land'), ('LAND_COVER', 'Water Body'), ('LAND_COVER', 'Wetland'), ('LAND_COVER', 'Built-up area'), ('LAND_COVER', 'Pasture'), ('LAND_COVER', 'pasture'), ('LAND_COVER', 'Savanna'), ('LAND_COVER', 'Mangrove'), ('LAND_COVER', 'mangrove'), ('LAND_COVER', 'Plantation'), ('LAND_COVER', 'Steppe'), ('LAND_COVER', 'savanna'), ('LAND_COVER', 'commercial area'), ('LAND_COVER', 'bushland'), ('LAND_COVER', 'Bushland'), ('LAND_COVER', 'desert'), ('LAND_COVER', 'Lake'), ('LAND_COVER', 'Cropland'), ('LAND_COVER', 'residential area'), ('LAND_COVER', 'rainforest'), ('LAND_COVER', 'Built-up Area'), ('LAND_COVER', 'permafrost'), ('LAND_COVER', 'Urban area'), ('LAND_COVER', 'Water body'), ('LAND_COVER', 'rocky area'), ('LAND_COVER', 'Agricultural Land'), ('LAND_COVER', 'Urban Area'), ('LAND_COVER', 'steppe'), ('LAND_COVER', 'Residential area'), ('LAND_COVER', 'Farmland'), ('LAND_COVER', 'tropical forest'), ('LAND_COVER', 'peatland'), ('LAND_COVER', 'arable land'), ('LAND_COVER', 'orchard'), ('LAND_COVER', 'Peatland'), ('LAND_COVER', 'marsh'), ('LAND_COVER', 'Shrubland'), ('LAND_COVER', 'Grazing land'), ('LAND_COVER', 'Arable land'), ('LAND_COVER', 'Reservoir'), ('LAND_COVER', 'swamp'), ('LAND_COVER', 'Tropical Forest'), ('LAND_COVER', 'Tropical forest'), ('LAND_COVER', 'Rainforest')]\n",
      "\n",
      "=== Verification ===\n",
      "HTML file generated: lulc_network.html\n",
      "Node count: 824\n",
      "Edge count: 822\n",
      "Opened in browser. If blank, try:\n",
      "1. Right-click -> 'Open with' another browser\n",
      "2. Check developer console (F12) for errors\n"
     ]
    }
   ],
   "source": [
    "import pandas as pd\n",
    "import networkx as nx\n",
    "from pyvis.network import Network\n",
    "import webbrowser\n",
    "\n",
    "# 1. Load your data (with sample fallback)\n",
    "\n",
    "df = pd.read_csv('/Users/rehamjamal/Desktop/ARENA 2025/notebook/final_lulc_rules_with_geography.csv')\n",
    "\n",
    "# 2. Transform data with debug output\n",
    "print(\"\\n=== Input Data Sample ===\")\n",
    "print(df.head())\n",
    "\n",
    "network_data = []\n",
    "for _, row in df.iterrows():\n",
    "    if row['type'] == 'change_process':\n",
    "        network_data.append({\n",
    "            'source': row['term'],\n",
    "            'target': 'LAND_COVER_CHANGE',\n",
    "            'label': row['term']\n",
    "        })\n",
    "    elif row['type'] == 'land_cover':\n",
    "        network_data.append({\n",
    "            'source': 'LAND_COVER',\n",
    "            'target': row['term'],\n",
    "            'label': row['term']\n",
    "        })\n",
    "    elif row['type'] == 'percentage_change':\n",
    "        network_data.append({\n",
    "            'source': 'QUANT_CHANGE',\n",
    "            'target': row['value'],\n",
    "            'label': row['value']\n",
    "        })\n",
    "\n",
    "# 3. Build network with diagnostics\n",
    "# print(\"\\n=== Network Data ===\")\n",
    "# print(network_data[:3])  # Show first 3 records\n",
    "\n",
    "G = nx.DiGraph()\n",
    "for record in network_data:\n",
    "    G.add_node(record['source'], label=record.get('label', ''))\n",
    "    G.add_node(record['target'], label=record.get('label', ''))\n",
    "    G.add_edge(record['source'], record['target'])\n",
    "\n",
    "print(f\"\\nNodes: {G.nodes()}\\nEdges: {G.edges()}\")\n",
    "\n",
    "# 4. Enhanced Visualization\n",
    "nt = Network(\n",
    "    height=\"750px\",\n",
    "    width=\"100%\",\n",
    "    directed=True,\n",
    "    notebook=False,\n",
    "    cdn_resources='remote',  \n",
    "    select_menu=True,       \n",
    "    filter_menu=True       \n",
    ")\n",
    "\n",
    "# Force physics configuration\n",
    "nt.set_options(\"\"\"\n",
    "{\n",
    "  \"physics\": {\n",
    "    \"forceAtlas2Based\": {\n",
    "      \"gravitationalConstant\": -50,\n",
    "      \"centralGravity\": 0.01,\n",
    "      \"springLength\": 100\n",
    "    },\n",
    "    \"minVelocity\": 0.75,\n",
    "    \"solver\": \"forceAtlas2Based\"\n",
    "  }\n",
    "}\n",
    "\"\"\")\n",
    "\n",
    "nt.from_nx(G)\n",
    "output_path = 'lulc_network.html'\n",
    "nt.write_html(output_path)\n",
    "\n",
    "# 5. Verification Steps\n",
    "print(\"\\n=== Verification ===\")\n",
    "print(f\"HTML file generated: {output_path}\")\n",
    "print(f\"Node count: {len(G.nodes())}\")\n",
    "print(f\"Edge count: {len(G.edges())}\")\n",
    "\n",
    "# Open in browser with timeout\n",
    "try:\n",
    "    webbrowser.open(output_path, new=2)\n",
    "    print(\"Opened in browser. If blank, try:\")\n",
    "    print(\"1. Right-click -> 'Open with' another browser\")\n",
    "    print(\"2. Check developer console (F12) for errors\")\n",
    "except:\n",
    "    print(f\"Manually open: file://{os.path.abspath(output_path)}\")"
   ]
  },
  {
   "cell_type": "code",
   "execution_count": 2,
   "metadata": {},
   "outputs": [
    {
     "name": "stderr",
     "output_type": "stream",
     "text": [
      "100%|██████████| 118/118 [01:43<00:00,  1.14it/s]"
     ]
    },
    {
     "name": "stdout",
     "output_type": "stream",
     "text": [
      "✅ All done! Extracted entities saved to data/lulc_entities.csv\n"
     ]
    },
    {
     "name": "stderr",
     "output_type": "stream",
     "text": [
      "\n"
     ]
    }
   ],
   "source": [
    "# Full Clean and Complete NER Pipeline for LULCC Domain\n",
    "\n",
    "import spacy\n",
    "from spacy.pipeline import EntityRuler\n",
    "from spacy.tokens import Span\n",
    "from spacy.util import filter_spans\n",
    "import pandas as pd\n",
    "import re\n",
    "from tqdm import tqdm\n",
    "import pycountry\n",
    "\n",
    "# -----------------------------\n",
    "# 1. Load spaCy Model & Add EntityRuler\n",
    "# -----------------------------\n",
    "nlp = spacy.load(\"en_core_web_sm\")\n",
    "ruler = nlp.add_pipe(\"entity_ruler\", before=\"ner\")\n",
    "\n",
    "# -----------------------------\n",
    "# 2. Clean Text Function (merges title, abstract, sections)\n",
    "# -----------------------------\n",
    "def clean_text(row):\n",
    "    text = \" \".join(str(row[col]) for col in [\"title\", \"abstract\", \"sections\"] if col in row and pd.notnull(row[col]))\n",
    "    text = re.sub(r\"\\{.*?\\}\", \" \", text)\n",
    "    text = re.sub(r\"'#text':\", '', text)\n",
    "    text = re.sub(r\"'@xmlns':\", '', text)\n",
    "    text = re.sub(r\"'\\w+':\\s*\", ' ', text)\n",
    "    text = re.sub(r\"[^a-zA-Z0-9 .%°]+\", ' ', text)\n",
    "    text = re.sub(r\"\\s+\", \" \", text).strip()\n",
    "    return text\n",
    "\n",
    "# -----------------------------\n",
    "# 3. Load LULC Vocabularies from CSV\n",
    "# -----------------------------\n",
    "lulc_voc = pd.read_csv(\"/Users/rehamjamal/Desktop/ARENA 2025/data/LULC.csv\")[\"word\"].dropna().unique().tolist()\n",
    "lulc_process = pd.read_csv(\"/Users/rehamjamal/Desktop/ARENA 2025/data/LCprocess.csv\")[\"word\"].dropna().unique().tolist()\n",
    "\n",
    "# -----------------------------\n",
    "# 4. Define GEO Vocabulary (Countries + Regions)\n",
    "# -----------------------------\n",
    "COUNTRIES = [country.name for country in pycountry.countries]\n",
    "GLOBAL_REGIONS = [\n",
    "    \"Africa\", \"Sub-Saharan Africa\", \"North America\", \"South America\",\n",
    "    \"Asia\", \"Southeast Asia\", \"Europe\", \"Middle East\", \"Oceania\",\n",
    "    \"Western Africa\", \"Eastern Africa\", \"Northern Africa\"\n",
    "]\n",
    "geo_vocab = list(set(COUNTRIES + GLOBAL_REGIONS))\n",
    "\n",
    "# -----------------------------\n",
    "# 5. Pattern Helpers\n",
    "# -----------------------------\n",
    "def format_patterns(vocab_list, label):\n",
    "    return [\n",
    "        {\"label\": label, \"pattern\": [{\"LOWER\": word}]} for word in vocab_list if len(word.split()) == 1\n",
    "    ] + [\n",
    "        {\"label\": label, \"pattern\": [{\"LOWER\": w} for w in phrase.split()]} for phrase in vocab_list if len(phrase.split()) > 1\n",
    "    ]\n",
    "\n",
    "def create_pattern_sw(list_of_words, label):\n",
    "    single_words = [w for w in list_of_words if len(w.split()) == 1]\n",
    "    pattern_list = [\n",
    "        {\"label\": label, \"pattern\": [{\"TEXT\": word}]} for word in single_words\n",
    "    ] + [\n",
    "        {\"label\": label, \"pattern\": [{\"LEMMA\": word}]} for word in single_words\n",
    "    ]\n",
    "    return pattern_list\n",
    "\n",
    "# -----------------------------\n",
    "# 6. Add Core Patterns to the EntityRuler\n",
    "# -----------------------------\n",
    "base_patterns = [\n",
    "    {\"label\": \"SURFACE_UNIT\", \"pattern\": [\n",
    "        {\"TEXT\": {\"REGEX\": r\"\\d+\"}},\n",
    "        {\"LOWER\": {\"IN\": [\"km²\", \"ha\", \"hectares\", \"acres\", \"kilometers\"]}}\n",
    "    ]},\n",
    "    {\"label\": \"COORDINATES\", \"pattern\": [\n",
    "        {\"TEXT\": {\"REGEX\": r\"\\d{1,3}\"}}, {\"TEXT\": \"°\"},\n",
    "        {\"TEXT\": {\"REGEX\": \"[NSEW]\"}}, {\"TEXT\": \"–\"},\n",
    "        {\"TEXT\": {\"REGEX\": r\"\\d{1,3}\"}}, {\"TEXT\": \"°\"},\n",
    "        {\"TEXT\": {\"REGEX\": \"[NSEW]\"}}\n",
    "    ]},\n",
    "    *[{\"label\": \"CHANGE\", \"pattern\": [{\"LEMMA\": lemma}]} for lemma in [\"increase\", \"decrease\", \"loss\", \"gain\", \"expand\"]],\n",
    "    {\"label\": \"CHANGE\", \"pattern\": [{\"LOWER\": {\"REGEX\": r\"(increase|decrease|loss(es)?|gain(s)?|expansion|expand)\"}}]}\n",
    "]\n",
    "\n",
    "ruler.add_patterns(base_patterns +\n",
    "                   format_patterns(geo_vocab, \"GEO\") +\n",
    "                   create_pattern_sw(lulc_voc, \"LULC\") +\n",
    "                   create_pattern_sw(lulc_process, \"LULC_process\"))\n",
    "\n",
    "# -----------------------------\n",
    "# 7. NER Function (includes multiword and lemmatized matching)\n",
    "# -----------------------------\n",
    "def extract_entities(text):\n",
    "    rows = []\n",
    "    doc = nlp(text)\n",
    "    original_ents = list(doc.ents)\n",
    "\n",
    "    # Multiword LULC_process\n",
    "    multi_words_process = [w for w in lulc_process if len(w.split()) > 1]\n",
    "    multi_words_lemma_process = [\" \".join([token.lemma_ for token in nlp(w)]) for w in multi_words_process]\n",
    "\n",
    "    mwt_ents = []\n",
    "    for mw in multi_words_process + multi_words_lemma_process:\n",
    "        for match in re.finditer(re.escape(mw), doc.text):\n",
    "            span = doc.char_span(*match.span())\n",
    "            if span is not None:\n",
    "                mwt_ents.append((span.start, span.end, span.text))\n",
    "    for start, end, name in mwt_ents:\n",
    "        original_ents.append(Span(doc, start, end, label=\"LULC_process\"))\n",
    "\n",
    "    # Multiword LULC\n",
    "    multi_words_lulc = [w for w in lulc_voc if len(w.split()) > 1]\n",
    "    multi_words_lemma_lulc = [\" \".join([token.lemma_ for token in nlp(w)]) for w in multi_words_lulc]\n",
    "\n",
    "    mwt_ents = []\n",
    "    for mw in multi_words_lulc + multi_words_lemma_lulc:\n",
    "        for match in re.finditer(re.escape(mw), doc.text):\n",
    "            span = doc.char_span(*match.span())\n",
    "            if span is not None:\n",
    "                mwt_ents.append((span.start, span.end, span.text))\n",
    "    for start, end, name in mwt_ents:\n",
    "        original_ents.append(Span(doc, start, end, label=\"LULC\"))\n",
    "\n",
    "    # Final span filtering\n",
    "    doc.ents = filter_spans(original_ents)\n",
    "    for ent in doc.ents:\n",
    "        rows.append((ent.text, ent.label_))\n",
    "    return pd.DataFrame(rows, columns=[\"value\", \"entity_label\"])\n",
    "\n",
    "# -----------------------------\n",
    "# 8. Apply Pipeline to Full CSV\n",
    "# -----------------------------\n",
    "df_docs = pd.read_csv(\"/Users/rehamjamal/Desktop/ARENA 2025/extracted_text/extracted_data_full.csv\")\n",
    "df_docs[\"cleaned_text\"] = df_docs.apply(clean_text, axis=1)\n",
    "\n",
    "all_entities = pd.DataFrame()\n",
    "\n",
    "for idx, row in tqdm(df_docs.iterrows(), total=len(df_docs)):\n",
    "    ents = extract_entities(row[\"cleaned_text\"])\n",
    "    ents[\"doc_id\"] = idx\n",
    "    all_entities = pd.concat([all_entities, ents], ignore_index=True)\n",
    "\n",
    "# -----------------------------\n",
    "# 9. Save Land Use and Land Cover Entities\n",
    "# -----------------------------\n",
    "lulc_entities = all_entities[all_entities[\"entity_label\"].isin([\"LULC\", \"LULC_process\"])]\n",
    "lulc_entities.drop_duplicates().sort_values(by=\"value\").to_csv(\"/Users/rehamjamal/Desktop/ARENA 2025/notebook/lulc_entities.csv\", index=False)\n",
    "\n",
    "print(\"✅ All done! Extracted entities saved to data/lulc_entities.csv\")\n"
   ]
  },
  {
   "cell_type": "code",
   "execution_count": null,
   "metadata": {},
   "outputs": [],
   "source": []
  }
 ],
 "metadata": {
  "kernelspec": {
   "display_name": "venv",
   "language": "python",
   "name": "python3"
  },
  "language_info": {
   "codemirror_mode": {
    "name": "ipython",
    "version": 3
   },
   "file_extension": ".py",
   "mimetype": "text/x-python",
   "name": "python",
   "nbconvert_exporter": "python",
   "pygments_lexer": "ipython3",
   "version": "3.11.8"
  }
 },
 "nbformat": 4,
 "nbformat_minor": 2
}
